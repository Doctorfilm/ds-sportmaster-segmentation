{
 "cells": [
  {
   "cell_type": "markdown",
   "id": "e1e16ca8-7da4-477c-b275-0c5a1334487b",
   "metadata": {
    "jupyter": {
     "source_hidden": true
    }
   },
   "source": [
    "## VK Visual Insights\n",
    "\n",
    "### Описание проекта\n",
    "\n",
    "В эпоху цифровизации традиционные методы изучения аудитории оффлайн мероприятий — онлайн-регистрация, подписки, анкетирование — всё чаще **дают искажённую картину**:\n",
    "\n",
    "* Люди подписаны на группу, но давно отключили уведомления и не участвуют в жизни сообщества.\n",
    "* В интернете много \"мусора\" - **ботов**, фейковых или неактивных аккаунтов.\n",
    "* Многие участники мероприятий **не зарегистрированы в соцсети**, но активно участвуют оффлайн.\n",
    "* При разовых мероприятиях — пользователь может появиться на один день и **не оставить цифрового следа**.\n",
    "\n",
    "Таким образом, **реальная аудитория** мероприятия остаётся вне поля зрения.\n",
    "\n",
    "---\n",
    "\n",
    "**Почему именно фото + цифровой след?**\n",
    "\n",
    "Мы предлагаем альтернативный способ получить **актуальную информацию** о посетителях мероприятия — это **анализ фотографий** с помощью нейросетей и сопоставление их с **цифровым следом** в соцсетях.\n",
    "\n",
    "* Фото с мероприятий фиксируют **факт реального присутствия** — в отличие от регистрации или лайка.\n",
    "* Компьютерное зрение позволяет **распознать пол, возраст, эмоции** — давая представление о настоящей, а не номинальной аудитории.\n",
    "* Цифровой след (посты, комментарии, сторис) отражает **эмоциональную реакцию, интересы и вовлечённость**.\n",
    "\n",
    "---\n",
    "\n",
    "**Почему важно анализировать в динамике?**\n",
    "\n",
    "Если мероприятие проводится ежегодно, можно изучить:\n",
    "\n",
    "* Как **меняется состав аудитории** (молодеет/стареет, становится более мужским/женским).\n",
    "* Как меняется **вовлечённость в постах и репостах**.\n",
    "* Какие **темы и эмоции** преобладают в разное время.\n",
    "* И главное — как это соотносится с реальными людьми, попавшими на фото.\n",
    "\n",
    "---\n",
    "\n",
    "**Что делает VK Visual Insights?**\n",
    "\n",
    "**VK Visual Insights** — это аналитическое приложение, способное обрабатывать тысячи фотографий с мероприятий, объединяя:\n",
    "\n",
    "*  Компьютерное зрение (распознавание лиц, пола, возраста, эмоций)\n",
    "*  Анализ цифрового следа (VK API, посты, теги, комментарии)\n",
    "*  Сравнение по годам, построение трендов и рекомендаций\n",
    "\n",
    "---\n",
    "\n",
    "**Что в итоге?**\n",
    "\n",
    "* **Реальная демография** участников\n",
    "* **Понимание интересов** сообщества\n",
    "* **Рекомендации по продуктам, рекламе и партнёрам**\n",
    "* **Оценка изменений** в аудитории мероприятия по годам\n"
   ]
  },
  {
   "cell_type": "code",
   "execution_count": null,
   "id": "127825d4-c923-48a1-87ed-62517b9fba45",
   "metadata": {},
   "outputs": [
    {
     "name": "stdout",
     "output_type": "stream",
     "text": [
      "Collecting opencv-python-headless\n",
      "  Downloading opencv-python-headless-4.11.0.86.tar.gz (95.2 MB)\n",
      "\u001b[2K     \u001b[91m━━━━━━━━━━━━━━━━━━━━━━━━━━━━━━━━━━━━━━━\u001b[0m\u001b[91m╸\u001b[0m \u001b[32m94.1/95.2 MB\u001b[0m \u001b[31m1.1 MB/s\u001b[0m eta \u001b[36m0:00:01\u001b[0m00:03\u001b[0mm"
     ]
    }
   ],
   "source": [
    "!pip install opencv-python-headless"
   ]
  },
  {
   "cell_type": "markdown",
   "id": "f6c9da04-28e6-439a-a6fb-a1bd742acc54",
   "metadata": {},
   "source": [
    "### Библиотеки"
   ]
  },
  {
   "cell_type": "code",
   "execution_count": 1,
   "id": "b1e8c37f-900c-411d-ab7f-7e7bf2b79f47",
   "metadata": {},
   "outputs": [
    {
     "ename": "ModuleNotFoundError",
     "evalue": "No module named 'cv2'",
     "output_type": "error",
     "traceback": [
      "\u001b[0;31m---------------------------------------------------------------------------\u001b[0m",
      "\u001b[0;31mModuleNotFoundError\u001b[0m                       Traceback (most recent call last)",
      "Cell \u001b[0;32mIn[1], line 10\u001b[0m\n\u001b[1;32m      7\u001b[0m \u001b[38;5;28;01mimport\u001b[39;00m\u001b[38;5;250m \u001b[39m\u001b[38;5;21;01mos\u001b[39;00m\n\u001b[1;32m      9\u001b[0m \u001b[38;5;66;03m# Отображение фотографий\u001b[39;00m\n\u001b[0;32m---> 10\u001b[0m \u001b[38;5;28;01mimport\u001b[39;00m\u001b[38;5;250m \u001b[39m\u001b[38;5;21;01mcv2\u001b[39;00m\n\u001b[1;32m     12\u001b[0m \u001b[38;5;66;03m# Анализ постов  VK\u001b[39;00m\n\u001b[1;32m     13\u001b[0m \u001b[38;5;28;01mimport\u001b[39;00m\u001b[38;5;250m \u001b[39m\u001b[38;5;21;01mvk_api\u001b[39;00m\n",
      "\u001b[0;31mModuleNotFoundError\u001b[0m: No module named 'cv2'"
     ]
    }
   ],
   "source": [
    "#Импортируем необходимые базовые библиотеки\n",
    "import pandas as pd\n",
    "import numpy as np\n",
    "from datetime import datetime\n",
    "import seaborn as sns\n",
    "import matplotlib.pyplot as plt\n",
    "import os\n",
    "\n",
    "# Отображение фотографий\n",
    "import cv2\n",
    "\n",
    "# Анализ постов  VK\n",
    "import vk_api\n",
    "import time\n",
    "import datetime as dt\n",
    "from vk_api.exceptions import ApiError\n",
    "\n",
    "# Анализ тематики постов VK\n",
    "import re\n",
    "import nltk\n",
    "from nltk.corpus import stopwords\n",
    "from nltk.tokenize import RegexpTokenizer\n",
    "import gensim\n",
    "from gensim import corpora\n",
    "\n",
    "### Функции для групповых графиков - group_graph.py\n",
    "from group_graph import hist_graph, bar_graph, kde_graph_count, kde_graph\n",
    "### Функции для работы с альбомами VK - photo_utils.py\n",
    "from photo_utils import  vk_download_photos, vk_detect_and_save_faces, process_all_faces\n",
    "### Функции для работы с постми на стене VK - vk_wall_post.py\n",
    "from vk_wall_post import get_posts_wall, to_dataframe, get_posts_newsfeed\n",
    "\n",
    "import warnings\n",
    "warnings.filterwarnings(\"ignore\")\n",
    "\n",
    "#Общие настройки вида таблиц\n",
    "# Форматирование таблиц\n",
    "pd.set_option('display.max_columns', None)\n",
    "pd.set_option('display.max_colwidth', 120)\n",
    "pd.set_option('display.width', 500)\n",
    "pd.options.display.float_format = '{:,.2f}'.format"
   ]
  },
  {
   "cell_type": "markdown",
   "id": "15b7cf5a-3a57-4424-a2d3-e255dc08e350",
   "metadata": {},
   "source": [
    "### Константы"
   ]
  },
  {
   "cell_type": "code",
   "execution_count": null,
   "id": "e0928e66-e2cd-4c58-aad2-2830a8cfdc26",
   "metadata": {},
   "outputs": [],
   "source": [
    "# Настройки доступа в VK (токен для контакта у которого есть права на группу)\n",
    "# Инструкция: https://dev.vk.com/api/access-token/getting-started\n",
    "TOKEN = '618a8c5d618a8c5d618a8c5dc662baa2736618a618a8c5d0981bb4c8635c90c0f8a5ebd'\n",
    "\n",
    "# Идентификатор группы VK\n",
    "GROUPS = {\n",
    "    \"westra_tk\": -403500  # Туристический клуб Вестра\n",
    "}\n",
    "\n",
    "# Идентификаторы альбомов по годам\n",
    "ALBUM_IDS = {\n",
    "    \"westra_tk\": [\n",
    "        306954587,\n",
    "        302408908,\n",
    "        292582934,\n",
    "        283784929\n",
    "    ]\n",
    "}\n",
    "#======================================================================================================================\n",
    "# Обработка картинок\n",
    "MAX_PHOTOS = 1000  # Лимит фотографий на альбом\n",
    "THRESHOLD = 0.50  # Порог схожести (чем меньше, тем строже)\n",
    "\n",
    "PHOTO_PATH = 'data/raw/'\n",
    "FACE_PATH =  \"data/faces_raw\"\n",
    "UNIQUE_PATH = 'data/faces_unique'\n",
    "OUTPUT_CSV = \"dataset/analysis_photo.csv\"  # Файл для сохранения результатов\n",
    "#======================================================================================================================\n",
    "# Поиск цифрового следа\n",
    "SEARCH_TEXT = \"тгт\"\n",
    "START_TIME = int(dt.datetime(2020, 1, 1).timestamp())\n",
    "END_TIME   = int(dt.datetime(2025, 10, 1).timestamp())\n",
    "POSTS_LIMIT = 1000\n",
    "SUB_QUERY = ['соревнования', 'вестра', 'занял', 'место', 'Полушкино', 'Тучково']\n",
    "\n",
    "OUTPUT_CSV_POST = \"dataset/analysis_post.csv\"  # Файл для сохранения результатов постов\n",
    "#======================================================================================================================\n",
    "# Анализ эмоционального фона и продуктовых тематик\n",
    "OUTPUT_LDA_TOPICS = 'dataset/lda_topics.txt'\n",
    "OUTPUT_CSV_REC = 'dataset/recommendations.csv'\n",
    "\n",
    "# ─── Готовых маркетинговых словарей на русском языке, на данный момент нет, но словарь под ─────\n",
    "# ─── любую тематику можно с помощью ChatGPT или YandexGPT ──────────────────────────────────────\n",
    "theme_to_category = {\n",
    "    'cоревнования': 'Спортивная одежда, спортивные товары',\n",
    "    'спорт': 'Спортивная одежда, спортивные товары',\n",
    "    'путешествия': 'Туристическое снаряжение, одежда для туризма',\n",
    "    'туризм': 'Туристическое снаряжение, туристические услуги',\n",
    "    'электроника': 'Гаджеты, умные часы, наушники',\n",
    "    'фитнес': 'Фитнес-клубы, спортивное питание',\n",
    "    'мотоциклы': 'Экипировка для мотоциклистов, мотоаксессуары',\n",
    "    'авто': 'Автоаксессуары, шины, масла',\n",
    "    'еда': 'Продукты, доставка еды',\n",
    "    'здоровье': 'Витамины, аптечные товары',\n",
    "    'развлечения': 'Билеты на концерты, мероприятия',\n",
    "    'отдых': 'Путёвки, отдых на природе'\n",
    "}"
   ]
  },
  {
   "cell_type": "markdown",
   "id": "500954de-21b3-4754-9f5c-490ea451052e",
   "metadata": {},
   "source": [
    "## Анализ фотографий"
   ]
  },
  {
   "cell_type": "markdown",
   "id": "95cfa265-e587-4246-84e4-6b22e6784619",
   "metadata": {},
   "source": [
    "### Парсинг фотографий из VK\n",
    "\n",
    "В этом блоке запускается полный процесс обработки фотографий из сообществ ВКонтакте:\n",
    "\n",
    "1. **Загрузка фотографий из альбомов**  \n",
    "   Скачиваются изображения из заранее заданных альбомов сообществ, указанных в `GROUPS` и `ALBUM_IDS`. Каждое изображение сохраняется в отдельную папку, сгруппированную по году.\n",
    "\n",
    "2. **Выделение и сохранение лиц**  \n",
    "   С помощью DeepFace производится автоматическое обнаружение лиц на всех загруженных фотографиях. Каждый валидный фрагмент сохраняется как отдельный файл, и для него рассчитывается embedding — числовое представление лица.\n",
    "\n",
    "3. **Фильтрация и анализ уникальных лиц**  \n",
    "   Дублирующиеся лица удаляются на основе косинусного сходства эмбеддингов. Для каждого уникального лица определяется:\n",
    "   - пол (gender),\n",
    "   - возраст (age),\n",
    "   - доминирующая эмоция (emotion).  \n",
    "   \n",
    "   Итог сохраняется в виде CSV-файла, пригодного для последующего анализа и визуализации."
   ]
  },
  {
   "cell_type": "code",
   "execution_count": null,
   "id": "24b3b6ca-8f7b-4dcb-9300-38fafff6c855",
   "metadata": {
    "scrolled": true
   },
   "outputs": [],
   "source": [
    "# #Скачиваем фото\n",
    "# vk_download_photos(TOKEN, GROUPS, ALBUM_IDS, PHOTO_PATH, MAX_PHOTOS)\n",
    "    \n",
    "# #Сохраняем лица\n",
    "# vk_detect_and_save_faces(PHOTO_PATH, FACE_PATH)\n",
    "\n",
    "# #Фильтруем уникальные и сохраняем данные для каждой картинки: пол, возраст, эмоция\n",
    "# process_all_faces(FACE_PATH, UNIQUE_PATH, OUTPUT_CSV, THRESHOLD)"
   ]
  },
  {
   "cell_type": "markdown",
   "id": "c009486b-126b-4479-9a5d-88af4b00d826",
   "metadata": {},
   "source": [
    "Демонстрация работы алгоритма выделения лиц\n",
    "- Исходное изображение с мероприятия, загруженное из альбома VK сообщества.\n",
    "- Все лица, автоматически найденные и вырезанные с помощью DeepFace, при этом:\n",
    "  - игнорируются фрагменты ниже заданного порога качества;\n",
    "  - обрабатываются только чёткие, достаточно крупные лица;\n",
    "  - каждое лицо сохраняется как отдельное изображение.\n",
    "\n",
    "Этот этап наглядно демонстрирует, как из неструктурированного визуального контента мы получаем точечные данные, пригодные для анализа пола, возраста и эмоций участников события."
   ]
  },
  {
   "cell_type": "code",
   "execution_count": null,
   "id": "6b9b25b2-f7b4-49e5-acb6-eefc3b75b8ff",
   "metadata": {},
   "outputs": [],
   "source": [
    "# пути\n",
    "grp_p = f\"data/raw/2022/westra_tk_2022_0013.jpg\"\n",
    "face_dir = f\"data/faces_raw/2022\"\n",
    "faces = [os.path.join(face_dir, f\"2022_{i:05d}.jpg\") for i in (13, 14, 15, 16, 17, 18, 19)]\n",
    "# групповой снимок\n",
    "grp = cv2.imread(grp_p)\n",
    "grp = cv2.cvtColor(grp, cv2.COLOR_BGR2RGB)\n",
    "plt.figure(figsize=(10, 6))\n",
    "plt.imshow(grp); plt.axis(\"off\"); plt.title(\"westra_tk_2022_0013.jpg.jpg\")\n",
    "plt.show()\n",
    "\n",
    "# вырезанные лица\n",
    "plt.figure(figsize=(10, 4))\n",
    "for i, p in enumerate(faces):\n",
    "    f = cv2.imread(p)\n",
    "    f = cv2.cvtColor(f, cv2.COLOR_BGR2RGB)\n",
    "    ax = plt.subplot(1, 7, i + 1)\n",
    "    ax.imshow(f); ax.axis(\"off\"); ax.set_title(os.path.basename(p), fontsize=10)\n",
    "plt.tight_layout(); plt.show()"
   ]
  },
  {
   "cell_type": "markdown",
   "id": "1241d31d-5091-463c-80b9-79cfadf15ca2",
   "metadata": {},
   "source": [
    "### Первичный анализ по лицам"
   ]
  },
  {
   "cell_type": "code",
   "execution_count": null,
   "id": "09951bf5-57d3-4ebf-9a02-40bbc5178f5c",
   "metadata": {},
   "outputs": [],
   "source": [
    "#Основные данные о участниках;\n",
    "df_face = pd.read_csv(OUTPUT_CSV, sep=',', decimal='.')\n",
    "\n",
    "#Категоризация (сортировка) признака эмоции.\n",
    "emotion_order = ['fair', 'angry', 'sad', 'neutral', 'happy', 'surprise']\n",
    "df_face[\"emotion\"] = pd.Categorical(df_face[\"emotion\"], categories=emotion_order, ordered=True)\n",
    "\n",
    "df_face.sample(5)"
   ]
  },
  {
   "cell_type": "code",
   "execution_count": null,
   "id": "8fae97ec-7005-46e1-ad3a-27c30aae38f6",
   "metadata": {},
   "outputs": [],
   "source": [
    "#Параметры для построения графиков\n",
    "list_param = ['gender', 'age','emotion']\n",
    "#Наименования параметров для построения графиков\n",
    "list_name_param = ['Пол', 'Возраст', 'Эмоции']\n",
    "#Заголовок листа\n",
    "suptitle = ''\n",
    "\n",
    "#Построение графиков\n",
    "hist_graph (df_face,list_param,list_name_param , suptitle)"
   ]
  },
  {
   "cell_type": "markdown",
   "id": "c2363089-11fc-40e1-b111-35f8256afed9",
   "metadata": {},
   "source": [
    "**Пол:** Аудитория преимущественно мужская — мужчин почти в 3 раза больше, чем женщин.\n",
    "\n",
    "- **Возраст:** Основная возрастная группа — от 28 до 37 лет, с пиком на 30–34 года. Это активная взрослая аудитория.\n",
    "\n",
    "- **Эмоции:** Преобладают нейтральные и позитивные (happy) выражения лиц, что говорит о комфортной атмосфере мероприятия. Негативные эмоции (angry, sad) встречаются значительно реже.\n",
    "\n",
    "- **Общий вывод:** мероприятие собрало взрослую, преимущественно мужскую аудиторию с нейтрально-позитивным эмоциональным фоном."
   ]
  },
  {
   "cell_type": "code",
   "execution_count": null,
   "id": "ed43b922-da83-40ee-9b92-7fac4155e9ef",
   "metadata": {},
   "outputs": [],
   "source": [
    "# Параметры\n",
    "list_param      = ['gender', 'age', 'emotion']\n",
    "list_name_param = ['Пол', 'Возраст', 'Эмоции']\n",
    "suptitle        = 'Распределения признаков 2022-2025 год.'\n",
    "p_hue           = 'folder'\n",
    "\n",
    "# Сохраняем общий CSV\n",
    "df_face.to_csv(OUTPUT_CSV, index=False, encoding=\"utf-8\")\n",
    "\n",
    "# Строим графики\n",
    "kde_graph(df_face, list_param, list_name_param, suptitle, p_hue)"
   ]
  },
  {
   "cell_type": "markdown",
   "id": "85137998-7aef-4260-aee3-32a5726367d8",
   "metadata": {},
   "source": [
    "**Короткий вывод по распределениям (2022–2025)**\n",
    "- **Пол**: Доля мужчин стабильно превышает 70% во все годы. Небольшое снижение наблюдается в 2025 году.\n",
    "  \n",
    "- **Возраст**: Основная возрастная группа остаётся стабильной — 28–37 лет. В 2025 году наблюдается небольшое смещение в сторону более зрелой аудитории.\n",
    "\n",
    "- **Эмоции**: Во все годы преобладают happy и neutral эмоции. В 2023 году больше всего выражений радости, в 2025 — слегка повышена доля «neutral» и «sad».\n",
    "\n",
    "- **Общий вывод**: сообщество устойчиво привлекает взрослую мужскую аудиторию с позитивным или спокойным эмоциональным фоном, без резких изменений по годам."
   ]
  },
  {
   "cell_type": "markdown",
   "id": "f497366e-4eb6-4da7-b2b6-9bbbce865d22",
   "metadata": {},
   "source": [
    "**Тренды изменения аудитории по годам**\n",
    "\n",
    "В этом блоке показана динамика средней оценки эмоций и возраста участников по годам (2022–2025). \n",
    "Для каждого года рассчитано:\n",
    "- Среднее значение **emotion_rank** — числовой показатель, отражающий сдвиг от негативных к позитивным эмоциям.\n",
    "- Средний **возраст** участников, определённый на основе распознанных лиц.\n",
    "\n",
    "Графики позволяют увидеть, как меняется настроение и возрастная структура аудитории от года к году.\n"
   ]
  },
  {
   "cell_type": "code",
   "execution_count": null,
   "id": "19f5282f-ecbe-41b2-99c9-087f270cc8d8",
   "metadata": {},
   "outputs": [],
   "source": [
    "# словарь агрегаторов\n",
    "agg_kwargs = {'emotion_rank':('emotion_rank', 'mean'),\n",
    "              'age':('age', 'mean'),}\n",
    "\n",
    "# словарь с кастомными заголовками\n",
    "titles = {'emotion_rank':'Средняя оценка эмоции',\n",
    "          'age':'Возраст',}\n",
    "\n",
    "kde_graph_count (df_face, 'folder', agg_kwargs,  titles, 'Участники по годам')"
   ]
  },
  {
   "cell_type": "markdown",
   "id": "4f63c9f7-a41a-41d9-b403-60c20b1dca1c",
   "metadata": {},
   "source": [
    "- В 2024 году наблюдается **пик эмоционального подъёма** — наивысшее среднее значение по эмоциям.\n",
    "- Самый молодой состав участников был в **2023 году**, а самый возрастной — в **2022**.\n",
    "- В целом возраст аудитории держится в диапазоне **33–35 лет**, а эмоциональный фон — стабильно нейтрально-позитивный.\n"
   ]
  },
  {
   "cell_type": "markdown",
   "id": "1a1c1d81-b376-42d7-af26-3a7eea5a91b6",
   "metadata": {},
   "source": [
    "## Цифровой след: анализ текстов постов"
   ]
  },
  {
   "cell_type": "markdown",
   "id": "bf737648-a9ee-433a-9d85-6789f396b857",
   "metadata": {},
   "source": [
    "### VK: посты по ключевому слову\n",
    "\n",
    "На этом этапе проводится сбор и объединение текстового контента, связанного с мероприятием, из двух разных источников VK API:\n",
    "\n",
    "1. **`wall.get`** — посты, опубликованные непосредственно в сообществе (уровень `root_post`);\n",
    "2. **`newsfeed.search`** — пользовательские посты, в которых встречается заданное ключевое слово (уровень `user_post`).\n",
    "\n",
    "Дополнительно выполняется:\n",
    "- Фильтрация пользовательских постов по дополнительным ключевым словам `SUB_QUERY`;\n",
    "- Исключение повторяющихся записей и постов самого сообщества;\n",
    "- Расчёт совокупной метрики вовлечённости `reaction` (лайки + репосты + комментарии).\n"
   ]
  },
  {
   "cell_type": "code",
   "execution_count": null,
   "id": "62b5b6ef-0c29-48d5-8599-a2ad5cb49ab6",
   "metadata": {},
   "outputs": [],
   "source": [
    "OWNER_ID =  next(iter(GROUPS.values()))\n",
    "vk = vk_api.VkApi(token=TOKEN)\n",
    "\n",
    "#  Запуск обоих методов\n",
    "posts_wall = get_posts_wall(OWNER_ID, search_text=SEARCH_TEXT, start_time=START_TIME, end_time=END_TIME, limit=POSTS_LIMIT)\n",
    "df_wall = to_dataframe(posts_wall)\n",
    "df_wall['level'] = 'root_post'\n",
    "\n",
    "posts_news = get_posts_newsfeed(SEARCH_TEXT, START_TIME, END_TIME, POSTS_LIMIT)\n",
    "df_news = to_dataframe(posts_news)\n",
    "df_news['level'] = 'user_post'\n",
    "\n",
    "# Фильтрация по ключевым словам постов Уровня 2\n",
    "pattern = r'\\b(' + '|'.join(SUB_QUERY) + r')\\b'\n",
    "df_news = df_news[df_news['text'].str.contains(pattern, case=False, regex=True, na=False)]\n",
    "df_news = df_news[df_news['owner_id']!=OWNER_ID]\n",
    "\n",
    "# Объединение и удаление дублей\n",
    "df_posts = pd.concat([df_wall, df_news], ignore_index=True)\n",
    "df_posts['reaction'] = df_posts['likes'] + df_posts['reposts'] + df_posts['comments']\n",
    "\n",
    "#  Вывод\n",
    "print(f\" wall.get: найдено {len(df_wall)}\")\n",
    "print(f\" newsfeed.search (фильтровано по owner_id): найдено {len(df_news)}\")\n",
    "print(f\" Объединено без дублей: {len(df_posts)}\")\n",
    "df_posts.head()"
   ]
  },
  {
   "cell_type": "markdown",
   "id": "8aae5a50-57fe-4bc0-acdc-f20febf58834",
   "metadata": {},
   "source": [
    "**Загрузка и объединение комментариев**\n",
    "\n",
    "Чтобы получить более полное представление об активности и вовлечённости аудитории, на этом этапе к каждому посту загружаются комментарии с помощью метода `wall.getComments`.\n",
    "Основные шаги:\n",
    "- Для каждого поста из `df_posts` запрашиваются до 20 комментариев.\n",
    "- Комментарии собираются в отдельный DataFrame `df_comments`, где каждому сообщению присваивается уровень `comment`.\n",
    "- Дополнительно сохраняются метки времени, текст, количество лайков и ссылка на оригинальный пост.\n",
    "- Затем все уровни (посты сообщества, посты пользователей, комментарии) объединяются в единый DataFrame `df_posts_full`.\n",
    "  \n",
    "Это создаёт основу для анализа диалогов, глубины обсуждения, эмоционального контекста и динамики взаимодействия с аудиторией.\n"
   ]
  },
  {
   "cell_type": "code",
   "execution_count": null,
   "id": "835e0e24-cd37-4e87-ba26-37450f17a6fc",
   "metadata": {
    "scrolled": true
   },
   "outputs": [],
   "source": [
    "#  Загрузка комментариев к каждому посту\n",
    "def get_comments(owner_id, post_id, max_comments=20):\n",
    "    try:\n",
    "        response = vk.method('wall.getComments', {\n",
    "            'owner_id': owner_id,\n",
    "            'post_id': post_id,\n",
    "            'count': max_comments,\n",
    "            'preview_length': 0,\n",
    "            'extended': 0\n",
    "        })\n",
    "        return response.get('items', [])\n",
    "    except Exception as e:\n",
    "        print(f\" Ошибка получения комментариев для post_id={post_id}: {e}\")\n",
    "        return []\n",
    "\n",
    "#  Сбор комментариев в датафрейм\n",
    "comment_data = []\n",
    "\n",
    "for _, row in df_posts.iterrows():\n",
    "    comments = get_comments(row['owner_id'], row['post_id'])\n",
    "    for c in comments:\n",
    "        comment_data.append({\n",
    "            'post_id': row['post_id'],\n",
    "            'owner_id': row['owner_id'],\n",
    "            'date': dt.datetime.fromtimestamp(c['date']),\n",
    "            'year': dt.datetime.fromtimestamp(c['date']).year,\n",
    "            'month': dt.datetime.fromtimestamp(c['date']).month,\n",
    "            'text': c.get('text', ''),\n",
    "            'views': None,\n",
    "            'likes': c.get('likes', {}).get(\"count\", 0),\n",
    "            'comments': None,\n",
    "            'reposts': None,\n",
    "            'post_url': row['post_url'],\n",
    "            'level': 'comment'  # Комментарии\n",
    "        })\n",
    "\n",
    "df_comments = pd.DataFrame(comment_data)\n",
    "df_comments['reaction'] = df_comments['likes']  # пока только лайки\n",
    "\n",
    "#  Объединяем\n",
    "df_posts_full = pd.concat([df_posts, df_comments], ignore_index=True)\n",
    "\n",
    "# Сохраняем общий CSV\n",
    "df_posts_full.to_csv(OUTPUT_CSV_POST, index=False, encoding=\"utf-8\")\n",
    "print(f\"\\n Финальный CSV сохранён в {OUTPUT_CSV_POST}\")"
   ]
  },
  {
   "cell_type": "markdown",
   "id": "c8684423-d326-4523-a191-f3d149448104",
   "metadata": {},
   "source": [
    "Анализируется цифрового отклика на мероприятие:\n",
    "- **посты от сообщества** (`root_post`),\n",
    "- и **пользовательские посты** (`user_post`), содержащие упоминания события.\n",
    "\n",
    "Для каждого года и типа поста рассчитываются:\n",
    "- Общее число просмотров и реакций (`sum`);\n",
    "- Среднее число просмотров и реакций на один пост (`mean`).\n",
    "\n",
    "Графики позволяют:\n",
    "- сравнить динамику охвата и вовлечённости по годам;\n",
    "- увидеть разницу между официальной и пользовательской активностью.\n",
    "\n",
    "Это важный шаг для оценки органического интереса аудитории за пределами самого сообщества."
   ]
  },
  {
   "cell_type": "code",
   "execution_count": null,
   "id": "0c70531b-bfa3-4423-b491-002e20c3b079",
   "metadata": {},
   "outputs": [],
   "source": [
    "# Параметры\n",
    "list_param      = ['views_s', 'reaction_s', 'views_m', 'reaction_m']\n",
    "list_name_param = ['Просмотры (sum)', 'Реакции (sum)', 'Просмотры (mean)', 'Реакции (mean)']\n",
    "suptitle        = 'Цифровой след по типу поста.'\n",
    "x_n = 'year'\n",
    "p_hue  = 'level'\n",
    "\n",
    "df_pivot = df_posts_full[df_posts_full['level'].isin(['root_post', 'user_post'])].pivot_table(\n",
    "    index=['year', 'level'],\n",
    "    values=['views', 'reaction'],\n",
    "    aggfunc={'views': ['mean', 'sum'], 'reaction': ['mean', 'sum']}\n",
    ").reset_index()\n",
    "\n",
    "df_pivot.columns = ['year', 'level', 'reaction_m' , 'reaction_s' , 'views_m' , 'views_s' ]\n",
    "df_pivot.head()\n",
    "\n",
    "\n",
    "#df_pivot = df_posts.pivot_table(index= [x_n, p_hue], values=list_param, aggfunc='sum').reset_index()\n",
    "\n",
    "bar_graph (df_pivot, x_n, list_param,list_name_param, suptitle, p_hue  = 'level')"
   ]
  },
  {
   "cell_type": "markdown",
   "id": "9a4c2180-1d03-41f1-ac65-08c072f37f33",
   "metadata": {},
   "source": [
    "* **User-посты** стабильно показывают больший охват и вовлечённость, особенно в 2023–2024 годах — именно они обеспечили пик по просмотрам и реакциям.\n",
    "* **Официальные посты (root\\_post)** остаются стабильными по средним метрикам, но в 2025 году наблюдается снижение охвата и вовлечённости.\n",
    "* В 2025 году общее падение всех показателей может свидетельствовать о спаде интереса или меньшем количестве событий.\n",
    "\n",
    "**Вывод:** аудитория проявляет наибольшую активность при самостоятельном упоминании мероприятия, а не только в ответ на публикации сообщества. Поддержка пользовательского контента — ключевой драйвер вовлечённости.\n"
   ]
  },
  {
   "cell_type": "markdown",
   "id": "e2161cb8-a179-49e1-9a56-e4af1a88cf81",
   "metadata": {},
   "source": [
    "### Inst: анализ по тегу"
   ]
  },
  {
   "cell_type": "code",
   "execution_count": null,
   "id": "dae9870d-4162-437e-9348-6de51e97ccad",
   "metadata": {
    "scrolled": true
   },
   "outputs": [],
   "source": [
    "##### ===========================================================================\n",
    "##### !!!! Возможность получать статистику с Instagram через библиотеку      !!!!\n",
    "##### !!!! instaloader на территории РФ заблокирована на уровне провайдеров. !!!!\n",
    "##### ===========================================================================\n",
    "\n",
    "# import instaloader\n",
    "# L = instaloader.Instaloader()\n",
    "\n",
    "# USERNAME = \"login\"     # Введи имя пользователя Instagram\n",
    "# PASSWORD = \"passw\"     # Введи пароль\n",
    "\n",
    "# # Авторизация\n",
    "# L.login(USERNAME, PASSWORD)\n",
    "\n",
    "# # Сохраняем сессию, чтобы не логиниться заново в будущем\n",
    "# L.save_session_to_file()\n",
    "\n",
    "# hashtag = \"тгт\"\n",
    "# posts = instaloader.Hashtag.from_name(L.context, hashtag).get_posts()\n",
    "\n",
    "# data = []\n",
    "# for post in posts:\n",
    "#     data.append({\n",
    "#         'date': post.date_utc,\n",
    "#         'text': post.caption,\n",
    "#         'likes': post.likes,\n",
    "#         'comments': post.comments,\n",
    "#         'shortcode': post.shortcode,\n",
    "#         'url': f\"https://www.instagram.com/p/{post.shortcode}/\"\n",
    "#     })\n",
    "#     if len(data) > 100:  # ограничение на количество постов\n",
    "#         break\n",
    "\n",
    "# import pandas as pd\n",
    "# df_ig = pd.DataFrame(data)\n",
    "# df_ig.head()"
   ]
  },
  {
   "cell_type": "markdown",
   "id": "59e69896-94d7-42f1-b31d-7065337b9199",
   "metadata": {},
   "source": [
    "### Эмоциональный фон постов и комментариев"
   ]
  },
  {
   "cell_type": "markdown",
   "id": "c8d1251e-69c2-44e1-aff2-fcc5e95314bd",
   "metadata": {},
   "source": [
    "** Анализ тональности постов и комментариев с помощью BERT**\n",
    "\n",
    "Проводим автоматическую оценку **эмоциональной окраски текста** постов и комментариев.\n",
    "Используется предобученная модель `blanchefort/rubert-base-cased-sentiment`, специально адаптированная под русский язык. \n",
    "\n",
    "Этот шаг позволяет количественно оценить эмоциональный фон обсуждения вокруг мероприятия и выявить, какие посты вызывают положительную или негативную реакцию.\n"
   ]
  },
  {
   "cell_type": "code",
   "execution_count": null,
   "id": "4d95f2b8-e389-4546-acfb-0cbe5717814f",
   "metadata": {},
   "outputs": [],
   "source": [
    "from transformers import AutoTokenizer, AutoModelForSequenceClassification\n",
    "import torch\n",
    "import numpy as np\n",
    "\n",
    "# Загружаем данные\n",
    "df_sent = pd.read_csv(OUTPUT_CSV_POST)\n",
    "\n",
    "# 1. Модель и токенизатор\n",
    "model_name = 'blanchefort/rubert-base-cased-sentiment'\n",
    "tokenizer = AutoTokenizer.from_pretrained(model_name)\n",
    "model = AutoModelForSequenceClassification.from_pretrained(model_name)\n",
    "\n",
    "# 2. Токенизация (сразу батч)\n",
    "texts = df_sent['text'].fillna('').tolist()\n",
    "tokens = tokenizer(texts, padding=True, truncation=True, max_length=512, return_tensors='pt')\n",
    "\n",
    "# 3. Предсказания\n",
    "with torch.no_grad():\n",
    "    outputs = model(**tokens)\n",
    "    probs = torch.nn.functional.softmax(outputs.logits, dim=-1).numpy()\n",
    "\n",
    "# 4. Сохраняем в DataFrame\n",
    "df_sent['sentiment_label'] = np.argmax(probs, axis=1)\n",
    "df_sent['sentiment_score'] = np.max(probs, axis=1)\n",
    "df_sent['sentiment'] = df_sent['sentiment_label'].map({0: 'negative', 1: 'neutral', 2: 'positive'})"
   ]
  },
  {
   "cell_type": "markdown",
   "id": "c00228eb-ade2-463b-8114-e7a87126bb3f",
   "metadata": {},
   "source": [
    "**Перевод оценки тональности в 9-балльную шкалу**    \n",
    "Для более гибкого анализа эмоционального фона текстов проводится переход от 3-классовой модели (`negative`, `neutral`, `positive`) к **9-балльной шкале**.\n"
   ]
  },
  {
   "cell_type": "code",
   "execution_count": null,
   "id": "c3e1c44d-b5ea-48a5-a31b-add6459adbe0",
   "metadata": {},
   "outputs": [],
   "source": [
    "# 1. Определим границы интервалов внутри каждой категории\n",
    "sentiment_bounds = {}\n",
    "\n",
    "for label in ['negative', 'neutral', 'positive']:\n",
    "    subset = df_sent[df_sent['sentiment'] == label]['sentiment_score']\n",
    "    if not subset.empty:\n",
    "        min_score = subset.min()\n",
    "        max_score = subset.max()\n",
    "        bins = np.linspace(min_score, max_score, 4)  # 3 интервала = 4 границы\n",
    "        sentiment_bounds[label] = bins\n",
    "\n",
    "# 2. Присваиваем значения от 1 до 9 по интервалам\n",
    "def map_sentiment_score(row):\n",
    "    bins = sentiment_bounds.get(row['sentiment'])\n",
    "    if bins is None:\n",
    "        return np.nan\n",
    "\n",
    "    idx = np.digitize(row['sentiment_score'], bins, right=False) - 1\n",
    "    idx = max(0, min(2, idx))  # гарантируем, что будет от 0 до 2\n",
    "\n",
    "    if row['sentiment'] == 'negative':\n",
    "        return 1 + idx\n",
    "    elif row['sentiment'] == 'neutral':\n",
    "        return 4 + idx\n",
    "    elif row['sentiment'] == 'positive':\n",
    "        return 7 + idx\n",
    "\n",
    "df_sent['sentiment_9scale'] = df_sent.apply(map_sentiment_score, axis=1)\n",
    "\n",
    "# Сохраняем общий CSV\n",
    "df_sent.to_csv(OUTPUT_CSV_POST, index=False, encoding=\"utf-8\")\n",
    "print(f\"\\n Финальный CSV сохранён в {OUTPUT_CSV_POST}\")"
   ]
  },
  {
   "cell_type": "code",
   "execution_count": null,
   "id": "9959dc1e-65ea-4bc5-828c-24d67796de87",
   "metadata": {
    "scrolled": true
   },
   "outputs": [],
   "source": [
    "#Параметры для построения графиков\n",
    "list_param = ['sentiment_9scale']\n",
    "#Наименования параметров для построения графиков\n",
    "list_name_param = ['Эмоциональный уровень']\n",
    "#Заголовок листа\n",
    "suptitle = ''\n",
    "#Построение графиков\n",
    "hist_graph (df_sent,list_param,list_name_param , suptitle)"
   ]
  },
  {
   "cell_type": "markdown",
   "id": "8d413112-fd58-4ddc-95f3-86bb755a28fe",
   "metadata": {},
   "source": [
    "#### Эмоциональный фон по типу постов\n",
    "\n",
    "- `root_post` — посты, опубликованные сообществом;\n",
    "- `user_post` — посты пользователей;\n",
    "- `comment` — комментарии к постам.\n",
    "\n",
    "9-балльная шкала позволяет тонко различать оттенки эмоций:\n",
    "- от 1–3 (негатив),\n",
    "- через 4–6 (нейтральные),\n",
    "- до 7–9 (позитивные).\n",
    "\n",
    "График помогает наглядно сравнить эмоциональную окраску текста в зависимости от источника: кто более эмоционален, кто сдержан, а кто чаще выражает позитив.\n"
   ]
  },
  {
   "cell_type": "code",
   "execution_count": null,
   "id": "be372c3b-5261-49c8-b4d2-f522529c4911",
   "metadata": {},
   "outputs": [],
   "source": [
    "#Параметры для построения графиков\n",
    "list_param = ['sentiment_9scale']\n",
    "#Наименования параметров для построения графиков\n",
    "list_name_param = ['Эмоциональный уровень']\n",
    "#Заголовок листа\n",
    "suptitle = ''\n",
    "#Построение графиков\n",
    "kde_graph (df_sent,list_param,list_name_param , suptitle, 'level')"
   ]
  },
  {
   "cell_type": "markdown",
   "id": "f08b2d15-ca37-4f94-b894-5dbe13ee87a9",
   "metadata": {},
   "source": [
    "User-посты чаще несут более эмоционально окрашенное содержание — сдвиг в сторону положительных оценок (7–9).\n",
    "\n",
    "Комментарии в целом сбалансированы, но ближе к нейтрально-позитивной зоне.\n",
    "\n",
    "Root-посты (официальные публикации сообщества) чаще интерпретируются моделью как менее эмоциональные и ближе к негативным (в диапазоне 2–4), что отражает их сдержанный, формальный стиль.\n",
    "\n",
    "Важно: **модель не учитывает намерения, она опирается на языковую тональность.** Официальный стиль может восприниматься как \"прохладный\", даже если сообщение — нейтральное или позитивное по сути."
   ]
  },
  {
   "cell_type": "markdown",
   "id": "6f8a1450-0049-466e-be8c-9b3195d26aeb",
   "metadata": {},
   "source": [
    "#### Сезонные тренды цифрового следа\n",
    "\n",
    "На этом этапе анализируются **помесячные изменения цифровой активности** и эмоционального фона аудитории.\n",
    "\n",
    "С помощью словаря агрегаторов рассчитываются:\n",
    "- `Количество постов` — сколько публикаций появляется в каждый месяц;\n",
    "- `Суммарные просмотры` — общий охват;\n",
    "- `Суммарные реакции` — вовлечённость (лайки, репосты, комментарии);\n",
    "- `Средний сентимент` — средний эмоциональный уровень постов (по 9-балльной шкале).\n",
    "\n",
    "Графики позволяют выявить:\n",
    "- В какие месяцы наблюдается всплеск активности или эмоционального подъёма;\n",
    "- Есть ли сезонность или пики, связанные с проведением мероприятий;\n",
    "- Как меняется настроение аудитории в течение года.\n"
   ]
  },
  {
   "cell_type": "code",
   "execution_count": null,
   "id": "b70189b4-d4e8-4487-9607-7076b0f89fc8",
   "metadata": {
    "scrolled": true
   },
   "outputs": [],
   "source": [
    "# словарь агрегаторов\n",
    "agg_kwargs = {\n",
    "    'post_count'    : ('year',            'size'),\n",
    "    'views_sum'     : ('views',           'sum'),\n",
    "    'reaction_sum'  : ('reaction',        'sum'),\n",
    "    'sentiment_mean': ('sentiment_9scale','mean'),\n",
    "}\n",
    "\n",
    "# словарь с кастомными заголовками\n",
    "titles = {\n",
    "    'post_count'    : 'Количество постов',\n",
    "    'views_sum'     : 'Суммарные просмотры',\n",
    "    'reaction_sum'  : 'Суммарные реакции',\n",
    "    'sentiment_mean': 'Средний сентимент'\n",
    "}\n",
    "\n",
    "kde_graph_count (df_sent, 'month', agg_kwargs,  titles, 'Сезонные тренды цифрового следа')"
   ]
  },
  {
   "cell_type": "markdown",
   "id": "c9d5dfb9-04ec-469d-9f3c-48070fa7e1bd",
   "metadata": {},
   "source": [
    "Апрель — отчётливый пик активности по всем метрикам: количество постов, просмотры, реакции. Вероятнее всего, в этом месяце проходит ключевое мероприятие.\n",
    "\n",
    "После апреля активность заметно снижается, но локальные всплески наблюдаются в августе и ноябре.\n",
    "\n",
    "Средний сентимент выше всего в феврале и ноябре–декабре, что может указывать на более тёплое или вдохновляющее содержание постов в эти месяцы.\n",
    "\n",
    "Минимум по сентименту — август, где вероятно преобладает формальный или нейтральный стиль сообщений.\n",
    "\n",
    "Вывод: цифровая активность и эмоциональный фон аудитории подвержены ярко выраженной сезонности, которую важно учитывать при планировании публикаций и событий."
   ]
  },
  {
   "cell_type": "markdown",
   "id": "701948a1-e8cd-40d1-b679-7b1709e97206",
   "metadata": {},
   "source": [
    "#### Тренды цифрового следа по годам\n",
    "\n",
    "В этом разделе агрегируются ключевые метрики цифровой активности по годам:\n",
    "\n",
    "- **Количество постов** — динамика публикационной активности;\n",
    "- **Суммарные просмотры** — общий охват контента;\n",
    "- **Суммарные реакции** — лайки, репосты и комментарии в совокупности;\n",
    "- **Средний сентимент** — средняя эмоциональная окраска текстов на основе 9-балльной шкалы.\n",
    "\n",
    "Анализ годовых трендов позволяет выявить:\n",
    "- периоды роста или спада интереса аудитории;\n",
    "- эмоциональные сдвиги в подаче контента;\n",
    "- влияние событийных или внешних факторов на поведение пользователей."
   ]
  },
  {
   "cell_type": "code",
   "execution_count": null,
   "id": "10990973-2371-4799-b8e1-9e9808598abd",
   "metadata": {},
   "outputs": [],
   "source": [
    "# словарь агрегаторов\n",
    "agg_kwargs = {\n",
    "    'post_count'    : ('year',            'size'),\n",
    "    'views_sum'     : ('views',           'sum'),\n",
    "    'reaction_sum'  : ('reaction',        'sum'),\n",
    "    'sentiment_mean': ('sentiment_9scale','mean'),\n",
    "}\n",
    "\n",
    "# словарь с кастомными заголовками\n",
    "titles = {\n",
    "    'post_count'    : 'Количество постов',\n",
    "    'views_sum'     : 'Суммарные просмотры',\n",
    "    'reaction_sum'  : 'Суммарные реакции',\n",
    "    'sentiment_mean': 'Средний сентимент'\n",
    "}\n",
    "kde_graph_count (df_sent, 'year', agg_kwargs,  titles, 'Тренды цифрового следа по годам')"
   ]
  },
  {
   "cell_type": "markdown",
   "id": "3c5b2276-96e0-4561-aca4-d67e5c0bc5c1",
   "metadata": {},
   "source": [
    "### LDA - Тематический анализ постов\n",
    "\n",
    "На этом этапе проводится тематическое моделирование текстов с использованием алгоритма **Latent Dirichlet Allocation (LDA)**, а также сопоставление обнаруженных тем с вручную заданными категориями (`theme_to_category`).\n",
    "В результате мы получаем сводную таблицу с количеством постов по каждой теме и строится barplot-график \"Преобладающая тематика\".\n",
    "\n",
    "Это позволяет:\n",
    "- понять, какие темы чаще всего поднимаются в пользовательском и официальном контенте;\n",
    "- автоматизировать присвоение категорий и рекомендаций на основе ключевых слов."
   ]
  },
  {
   "cell_type": "code",
   "execution_count": null,
   "id": "37088b86-89a0-4946-bbb7-b1496e3f8a20",
   "metadata": {},
   "outputs": [],
   "source": [
    "# 1. Загрузка данных \n",
    "df_post = pd.read_csv(OUTPUT_CSV_POST, encoding='utf-8')\n",
    "\n",
    "# 2. Подготовка стоп-слов \n",
    "nltk.download('stopwords')\n",
    "stop_words = set(stopwords.words('russian')) | set(stopwords.words('english'))\n",
    "\n",
    "# 3. Инициализация токенизатора \n",
    "tokenizer = RegexpTokenizer(r'[а-яеa-z]+')  # включаем 'е' вместо 'ё'\n",
    "\n",
    "# 4. Очистка и токенизация для LDA \n",
    "texts_clean = []\n",
    "for raw in df_post['text'].dropna().astype(str):\n",
    "    text = raw.lower().replace('ё', 'е')\n",
    "    text = re.sub(r\"http\\S+|www\\S+|[^а-яеa-z\\s]\", \" \", text)\n",
    "    tokens = tokenizer.tokenize(text)\n",
    "    tokens = [tok for tok in tokens if tok not in stop_words and len(tok) > 3 and not tok.isdigit()]\n",
    "    if tokens:\n",
    "        texts_clean.append(tokens)\n",
    "\n",
    "# 5. Создание словаря и корпуса\n",
    "id2word = corpora.Dictionary(texts_clean)\n",
    "id2word.filter_extremes(no_below=5, no_above=0.5)\n",
    "corpus = [id2word.doc2bow(text) for text in texts_clean]\n",
    "\n",
    "# 6. Обучение LDA-модели\n",
    "lda_model = gensim.models.LdaModel(\n",
    "    corpus=corpus,\n",
    "    id2word=id2word,\n",
    "    num_topics=5,\n",
    "    random_state=42,\n",
    "    passes=10\n",
    ")\n",
    "\n",
    "#  7. Сохранение тем LDA \n",
    "with open(OUTPUT_LDA_TOPICS, 'w', encoding='utf-8') as f:\n",
    "    for topic_id in range(lda_model.num_topics):\n",
    "        terms = lda_model.show_topic(topic_id, topn=8)\n",
    "        words = [word for word, _ in terms]\n",
    "        line = f\"Тема {topic_id+1}: {', '.join(words)}\"\n",
    "        print(line)\n",
    "        f.write(line + '\\n')\n",
    "\n",
    "def detect_theme(text):\n",
    "    text = text.lower()\n",
    "    return [kw for kw in theme_to_category if kw in text]\n",
    "\n",
    "#  9. Классификация постов и сохранение результатов \n",
    "posts_data = []\n",
    "# Используем индекс DataFrame как post_id, т.к. колонки 'id' нет\n",
    "for idx, raw in df_post['text'].dropna().items():\n",
    "    text = str(raw).lower()\n",
    "    themes = detect_theme(text)\n",
    "    for theme in themes:\n",
    "        posts_data.append({\n",
    "            'post_id': idx,\n",
    "            'theme_detected': theme,\n",
    "            'category_recommendation': theme_to_category[theme],\n",
    "            'post_text_snippet': text[:100]\n",
    "        })\n",
    "\n",
    "# Создаём папку, если нужно\n",
    "df_recommendations = pd.DataFrame(posts_data)\n",
    "df_pivot_rec = df_recommendations.pivot_table(index=['category_recommendation', 'theme_detected',], values = 'post_id', aggfunc = 'count').sort_values ('post_id', ascending = False)\n",
    "\n",
    "#Функция для построения графиков распределения в каждом из признаков .\n",
    "#График распределения всех параметров по категориям\n",
    "plt.figure(figsize=[9, 4])\n",
    "sns.barplot(data=df_pivot_rec, x='post_id', y='category_recommendation')\n",
    "plt.xlabel('Количество постов', fontsize=\"10\")\n",
    "plt.ylabel('Тема', fontsize=\"10\")\n",
    "plt.title('Преобладающая тематика', fontsize=\"12\")\n",
    "plt.show()"
   ]
  },
  {
   "cell_type": "markdown",
   "id": "4772a27b-53f2-4961-809c-879d8b6fe329",
   "metadata": {},
   "source": [
    "Короткий вывод по результатам LDA-анализa\n",
    "\n",
    "- Наиболее часто встречающаяся тема — туристическое снаряжение и услуги, что отражает основной интерес аудитории к активному отдыху и подготовке к походам.\n",
    "\n",
    "- Второе место — спортивная одежда и товары, что логично дополняет первую тематику.\n",
    "\n",
    "- Значительное внимание также уделяется продуктам и доставке еды, особенно в контексте логистики мероприятий.\n",
    "\n",
    "Вывод: LDA подтвердила, что контент сообщества в первую очередь связан с практическими потребностями активного отдыха: экипировка и туристическое питание."
   ]
  },
  {
   "cell_type": "code",
   "execution_count": null,
   "id": "d2ba0679-8c95-4d2d-8b0c-3db944c16a1b",
   "metadata": {},
   "outputs": [],
   "source": [
    "# перекладываем в тему только те столбцы, которые нужны, и ставим post_id в индекс\n",
    "theme_idx = df_recommendations.set_index('post_id')[['theme_detected','category_recommendation']]\n",
    "\n",
    "# «лёгкий» join по индексу df_post и индексу theme_idx\n",
    "df_post_full = df_post.join(theme_idx, how='left')\n",
    "\n",
    "df_post_full.to_csv(OUTPUT_CSV_POST, index=False, encoding='utf-8-sig')\n",
    "print(f\" Сохранено в файл {OUTPUT_CSV_POST}\")"
   ]
  },
  {
   "cell_type": "markdown",
   "id": "9999b9d7-0271-4ce7-b08e-15750fa48d19",
   "metadata": {},
   "source": [
    "#### Тематические тренды по годам.\n",
    "\n",
    "На этом этапе проводится анализ, как **меняется интерес к темам** и связанный с ними **эмоциональный фон** в постах за период 2022–2025 гг.\n",
    "\n",
    "Для каждого года строятся два распределения:\n",
    "- по **темам**, выделенным с помощью ключевых слов (детектировано вручную или через LDA),\n",
    "- по **эмоциональной окраске** (по шкале `sentiment_9scale`).\n",
    "\n",
    "Сравнение этих графиков позволяет:\n",
    "- выявить, какие темы доминируют в разные годы;\n",
    "- отследить эмоциональные сдвиги внутри тематического поля (например, вызывает ли тема \"доставка еды\" больше негатива или позитива с течением времени);\n",
    "- понять, как эволюционирует интерес аудитории и контентная подача внутри сообщества.\n"
   ]
  },
  {
   "cell_type": "code",
   "execution_count": null,
   "id": "7a51cfb3-65ac-49b8-9741-6588c9c1b96c",
   "metadata": {},
   "outputs": [],
   "source": [
    "# Параметры\n",
    "list_param      = ['theme_detected', 'sentiment_9scale']\n",
    "list_name_param = ['Тема', 'Эмоции']\n",
    "suptitle        = 'Тематические тренды 2022-2025 год.'\n",
    "p_hue           = 'year'\n",
    "\n",
    "# Строим графики\n",
    "kde_graph(df_post_full, list_param, list_name_param, suptitle, p_hue)"
   ]
  },
  {
   "cell_type": "markdown",
   "id": "8960251f-bc22-4f4b-8459-f88301d75735",
   "metadata": {},
   "source": [
    "**Вывод по тематическим трендам (2022–2025)**\n",
    "\n",
    "В 2022 году наблюдается резкий всплеск интереса к теме еды — возможно, из-за изменения формата мероприятий или логистики.\n",
    "\n",
    "Тематика спорта доминировала в 2021 году, но постепенно уступает место более прикладным направлениям: туризм, отдых, авто.\n",
    "\n",
    "Эмоциональный фон сдвигается в сторону позитивных и нейтральных эмоций — пик распределения стабильно в районе 6–7 баллов по шкале.\n",
    "\n",
    "2025 год — самый эмоционально приподнятый период за весь интервал, с наибольшей плотностью в позитивной зоне.\n",
    "\n",
    "Вывод: интерес аудитории постепенно смещается от соревновательного контекста к бытовым и практическим темам, а общий эмоциональный настрой становится всё более позитивным."
   ]
  },
  {
   "cell_type": "markdown",
   "id": "505fc69e-cd28-4ca9-8ab3-c3507986f0ef",
   "metadata": {},
   "source": [
    "## Итоговый вывод"
   ]
  },
  {
   "cell_type": "markdown",
   "id": "943699ab-a1d1-4359-b0eb-4db9715c5fbe",
   "metadata": {},
   "source": [
    "### Общие вводные\n",
    "\n",
    "В рамках проекта был проанализирован цифровой след соревнований по технике горного туризма (ТГТ), которые проводятся ежегодно в апреле с 2022 по 2025 год. Эти мероприятия собирают от 150 до 200 участников, представляя собой стабильное и хорошо организованное событие с узнаваемой повесткой.\n"
   ]
  },
  {
   "cell_type": "markdown",
   "id": "ffc2c363-503e-4d93-9937-52cde76f26cc",
   "metadata": {},
   "source": [
    "### Фотографии и фотоанализ\n",
    "\n",
    "Для анализа использовались публичные альбомы во «ВКонтакте» — от 550 до 1300 фотографий в каждом. После удаления дублирующих и нерелевантных изображений, объём выборки оказался в 5 раз больше, чем число участников, что позволило провести достоверный демографический и эмоциональный анализ.\n",
    "\n",
    "Обработка \\~3000 фотографий с помощью CPU i7-8700 заняла около 8 часов. Лица и эмбединги сохранялись отдельно, чтобы избежать повторных вычислений. Были реализованы фильтры для удаления мусорных снимков — визуальный контроль показал уровень ошибки не выше 5%.\n",
    "\n",
    "Результаты:\n",
    "\n",
    "* Гендерный состав: 71% мужчин и 29% женщин.\n",
    "* Средний возраст: 33–34 года, ядро целевой аудитории — 25–44 года.\n",
    "* Эмоциональный фон: преимущественно нейтрально-позитивный.\n",
    "* Отрицательные эмоции (грусть, злость) наблюдаются не как реакция на событие, а как отражение напряжённых моментов соревнований.\n",
    "\n",
    "Интересно, что с года в год эмоциональный фон остаётся стабильным, что подтверждает гипотезу о «консервативности» формата ТГТ: испытания и организационные паттерны повторяются, аудитория — постоянна."
   ]
  },
  {
   "cell_type": "markdown",
   "id": "34102ae8-2e94-4019-af22-d48dc030a0d0",
   "metadata": {},
   "source": [
    "### Посты, комментарии и цифровая активность\n",
    "\n",
    "Для анализа использовались:\n",
    "\n",
    "* посты в группах мероприятия;\n",
    "* публичные посты участников;\n",
    "* комментарии (в тех случаях, где был доступ);\n",
    "* частично — сторис Telegram и попытка анализа Instagram (неудалась из-за ограничений в РФ).\n",
    "\n",
    "Суммарная цифровая активность по годам:\n",
    "\n",
    "* Просмотры: от 50 до 80 тысяч в год.\n",
    "* Реакции: от 1.2 до 2.5 тысяч (конверсия 1.5–2%).\n",
    "* Интересно, что посты от самих участников получают в 2 раза больше просмотров, чем публикации от лица группы.\n",
    "\n",
    " С 2022 по 2024 год наблюдался устойчивый рост активности. Однако в 2025 году зафиксирован спад. Если предположить наличие 5-летнего волнового цикла интереса к подобным мероприятиям, можно ожидать новый виток роста уже через 1–2 года.\n"
   ]
  },
  {
   "cell_type": "markdown",
   "id": "09485851-fdbe-4c74-a5ee-d8311a75f2ac",
   "metadata": {},
   "source": [
    "### Тональность постов и комментариев\n",
    "\n",
    "С помощью модели BERT (`blanchefort/rubert-base-cased-sentiment`) был проведён анализ тональности:\n",
    "\n",
    "* Преобладают сдержанно-нейтральные и позитивные посты.\n",
    "* Корневые публикации от групп — в официальном стиле (тональность \\~3).\n",
    "* Посты участников и комментарии чаще содержат позитив (\\~6–7).\n",
    "* Комментарии также часто несут эмоциональную окраску — благодарности, радость, переживания.\n",
    "\n",
    "На шкале от 1 до 9 (расширенная градация на основе вероятности) большую часть занимают уровни 4–7, что соответствует умеренно-позитивной коммуникации.\n"
   ]
  },
  {
   "cell_type": "markdown",
   "id": "cbeabde4-afbe-497e-b1d7-fd49d8d5748e",
   "metadata": {},
   "source": [
    "### Тематики\n",
    "\n",
    "Анализ тем с помощью BERTopic и SentenceTransformer выявил ключевые области интересов:\n",
    "\n",
    "* Снаряжение и оборудование\n",
    "* Туризм и спорт\n",
    "* Еда и питание в походах\n",
    "\n",
    "Эти тематики логично соотносятся с повесткой мероприятия и ожиданиями аудитории."
   ]
  },
  {
   "cell_type": "markdown",
   "id": "db9b3b35-58d6-43ca-92ac-e69bf7818007",
   "metadata": {},
   "source": [
    "### Сезонность\n",
    "\n",
    "Апрель — месяц пиковых значений как по числу постов, так и по реакции. Дополнительно выявлены два мини-пика:\n",
    "\n",
    "* Ноябрь — время набора в школы туризма (рост позитивной коммуникации).\n",
    "* Май-июнь — публикации фотоотчётов и «впечатлений после»."
   ]
  },
  {
   "cell_type": "markdown",
   "id": "11715a9c-c9f9-40cc-976f-04fdbb68f4b4",
   "metadata": {},
   "source": [
    "### Вывод по вовлечённости\n",
    "\n",
    "Если проанализировать численность группы ВКонтакте и число активных взаимодействий (просмотры, лайки, комментарии, участие в соревнованиях), можно сделать вывод:\n",
    "\n",
    " **Активное ядро** сообщества — около 1000 человек (\\~20% от численности группы).\n",
    "\n",
    "Это те, кто участвуют в соревнованиях, походах, слётах, активно читают и комментируют контент. Именно с ними стоит работать точечно, выстраивая коммуникации и продвижение."
   ]
  },
  {
   "cell_type": "markdown",
   "id": "e6be5b2c-7d01-4f0a-901e-26df1f62db81",
   "metadata": {},
   "source": [
    "##  Рекомендации по развитию исследования\n",
    "\n",
    "Чтобы сделать анализ ещё более точным и связать цифровой след с физическим участием:\n",
    "\n",
    "1. **Геометки на фотографиях**\n",
    "   Сбор координат позволит определить, какие эмоции чаще связаны с определёнными этапами соревнований или локациями. Например, больше радости — на финише, больше напряжения — у «параллельных перил».\n",
    "\n",
    "2. **Офлайн-анкетирование**\n",
    "   На старте или в конце соревнований можно предлагать заполнить короткую анкету: имя, ссылка на профиль ВК, возраст, род занятий. Это позволит привязать фотографии и посты к конкретным людям и сегментировать аудиторию точнее.\n",
    "\n",
    "3. **Telegram**\n",
    "   Развивать канал мероприятия с сохранением сторис, созданием чатов команд, сбором упоминаний по хештегу — это увеличит видимость и позволит обогатить данные анализа.\n",
    "\n",
    "4. **Подключение аудио/видеоанализа**\n",
    "   В будущем — анализ эмоций не только по фото, но и по голосу, фразам и выражениям лиц в видео."
   ]
  },
  {
   "cell_type": "markdown",
   "id": "38cfc496-323d-4004-90c5-3d375ececd68",
   "metadata": {},
   "source": [
    "## Вывод\n",
    "\n",
    "События ТГТ — это стабильный, локально сильный формат. Он держит вовлечённую аудиторию, но требует периодического перезапуска интереса. Мы находимся у нижней точки цикла. Если следовать пятигодичному тренду, уже в ближайшие 1–2 года можно ожидать новый подъём.\n",
    "\n",
    "В условиях роста интереса к активному отдыху, туризму и походному снаряжению, есть смысл начинать продвигать партнёрские бренды уже сейчас. Наиболее эффективные окна:\n",
    "\n",
    "* **Ноябрь** — наборы в Школы горного туризма;\n",
    "* **Апрель** — пик интереса во время мероприятия; всплеск эмоций и фотоконтента после.\n",
    "\n",
    "Уровень позитивной вовлечённости и плотность сообщества позволяют использовать этот канал как основу для долгосрочной маркетинговой работы.\n"
   ]
  }
 ],
 "metadata": {
  "kernelspec": {
   "display_name": "Python 3 (ipykernel)",
   "language": "python",
   "name": "python3"
  },
  "language_info": {
   "codemirror_mode": {
    "name": "ipython",
    "version": 3
   },
   "file_extension": ".py",
   "mimetype": "text/x-python",
   "name": "python",
   "nbconvert_exporter": "python",
   "pygments_lexer": "ipython3",
   "version": "3.12.7"
  }
 },
 "nbformat": 4,
 "nbformat_minor": 5
}
