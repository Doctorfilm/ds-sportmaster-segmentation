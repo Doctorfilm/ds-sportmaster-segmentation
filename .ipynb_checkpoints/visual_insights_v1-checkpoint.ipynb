{
 "cells": [
  {
   "cell_type": "markdown",
   "id": "e1e16ca8-7da4-477c-b275-0c5a1334487b",
   "metadata": {},
   "source": [
    "## VK Visual Insights \n",
    "\n",
    "С развитием социальных сетей начали происходитьт процессы перенасыщения и деградации:\n",
    "- Люди подписаны на группу, но уже отписались от всех уведомлений и никак не учавствуют в ее жизни.\n",
    "- Боты.\n",
    "- Люди учавствуют в жизни сообщества, но при этом не имеют аккаунта в этой соц. сети и не подписаны\n",
    "- Мероприятие разовое. Люди подписались/отписались или даже не подписывались.\n",
    "\n",
    "Поэтому единственный доступный способ кроме анектирования - это анализ с помощью нейросетей фотографий с конкртеного мероприятия или нескольких.\n",
    "- Показывает реальное кол-во вовлеченных в жизнь сообщества людей, которые являются 100% потенциальными клиентами.\n",
    "- Показывает их возраст и гендерную принадлежность.\n",
    "\n",
    "На момент написания данного приложения даже самые мощные онлайн нейросети делают анализ только 10-15 картинок (это их внутреннее ограничение). Что бы проанализировать сотни или тысячи фотографий необходима отдельное Аналитическое \"приложение\".\n",
    "\n",
    "Анализ фото с мероприятий для изучения аудитории и рекомендаций продуктов/услуг.\n",
    "\n",
    "Используя VK API, компьютерное зрение и аналитику, проект анализирует фото с мероприятий, выявляет демографический состав участников и предлагает персонализированные рекомендации на основе интересов сообщества."
   ]
  },
  {
   "cell_type": "code",
   "execution_count": 1,
   "id": "b1e8c37f-900c-411d-ab7f-7e7bf2b79f47",
   "metadata": {},
   "outputs": [
    {
     "name": "stdout",
     "output_type": "stream",
     "text": [
      "WARNING:tensorflow:From C:\\Users\\Doctor_PC\\AppData\\Roaming\\Python\\Python312\\site-packages\\tf_keras\\src\\losses.py:2976: The name tf.losses.sparse_softmax_cross_entropy is deprecated. Please use tf.compat.v1.losses.sparse_softmax_cross_entropy instead.\n",
      "\n"
     ]
    }
   ],
   "source": [
    "from deepface import DeepFace\n",
    "import os\n",
    "import cv2\n",
    "\n",
    "#Импортирт файлов из VK\n",
    "import vk_api\n",
    "import requests\n",
    "from collections import Counter\n",
    "import re\n",
    "import nltk\n",
    "from nltk.corpus import stopwords\n",
    "\n",
    "\n",
    "from PIL import Image\n",
    "from io import BytesIO\n",
    "from tqdm import tqdm\n",
    "from sklearn.metrics.pairwise import cosine_similarity\n",
    "import shutil\n",
    "import pickle\n",
    "\n",
    "\n",
    "#Импортируем необходимые базовые библиотеки\n",
    "import pandas as pd\n",
    "from datetime import datetime\n",
    "import numpy as np\n",
    "import seaborn as sns\n",
    "import matplotlib.pyplot as plt\n",
    "\n",
    "import warnings\n",
    "warnings.filterwarnings(\"ignore\")\n",
    "\n",
    "#Общие настройки вида таблиц\n",
    "# Форматирование таблиц\n",
    "pd.set_option('display.max_columns', None)\n",
    "pd.set_option('display.max_colwidth', 120)\n",
    "pd.set_option('display.width', 500)\n",
    "pd.options.display.float_format = '{:,.2f}'.format\n",
    "sns.set_style(\"darkgrid\")\n",
    "\n",
    "# создание константы RANDOM_STATE, TEST_SIZE\n",
    "RANDOM_STATE = 210425\n",
    "TEST_SIZE = 0.25\n",
    "\n"
   ]
  },
  {
   "cell_type": "code",
   "execution_count": 2,
   "id": "e0928e66-e2cd-4c58-aad2-2830a8cfdc26",
   "metadata": {},
   "outputs": [],
   "source": [
    "GROUPS = {\n",
    "    \"westra_tk\": -403500  # Туристический клуб Вестра\n",
    "}\n",
    "\n",
    "ALBUM_IDS = {\n",
    "    \"westra_tk\": [\n",
    "        306954587,\n",
    "        302408908,\n",
    "        292582934,\n",
    "        283784929\n",
    "    ]\n",
    "}\n",
    "\n",
    "PHOTO_PATH = 'data/raw/'\n",
    "OUTPUT_CSV = \"dataset/analysis_results.csv\"  # Файл для сохранения результатов\n",
    "FACE_PATH =  \"data/faces_raw\"\n",
    "EMBED_PATH = \"data/face_embeddings.npy\"\n",
    "\n",
    "# Настройки\n",
    "TOKEN = '618a8c5d618a8c5d618a8c5dc662baa2736618a618a8c5d0981bb4c8635c90c0f8a5ebd'  # Инструкция: https://dev.vk.com/api/access-token/getting-started\n",
    "\n",
    "RESIZE_DIM = (1280, 1280)\n",
    "DETECT_BACK = \"retinaface\"\n",
    "MODEL_NAME = \"VGG-Face\"\n",
    "MAX_PHOTOS = 50  # Лимит фотографий на сообщество\n",
    "PREF_SIZES = [ \"z\", \"y\", \"x\", \"m\", \"s\"] #размеры фотографий, выбирается бОльшее из найденных \n",
    "FACE_SIZE = 50 #Минимально возможный размер куска фотографии с лицом, отфильтровать \"мусор\"\n",
    "THRESHOLD = 0.50  # Порог схожести (чем меньше, тем строже)"
   ]
  },
  {
   "cell_type": "code",
   "execution_count": 3,
   "id": "2e0f8b7c-f5a3-4621-8e34-ab998807cd6d",
   "metadata": {},
   "outputs": [],
   "source": [
    "#\"\"\"Проверка размытости через дисперсию лапласиана\"\"\"\n",
    "def is_blurry(image, threshold=100.0):\n",
    "    gray = cv2.cvtColor(image, cv2.COLOR_RGB2GRAY)\n",
    "    laplacian_var = cv2.Laplacian(gray, cv2.CV_64F).var()\n",
    "    return laplacian_var < threshold"
   ]
  },
  {
   "cell_type": "code",
   "execution_count": 4,
   "id": "bafc28be-a813-43f0-93d9-57a8f7a4bc3a",
   "metadata": {},
   "outputs": [],
   "source": [
    "def simple_preprocess_face(img, target_size=(224, 224)):\n",
    "    \"\"\"Минимальная предобработка лица для подачи в модель DeepFace.\"\"\"\n",
    "    # Переводим в RGB, если изображение в BGR\n",
    "    if len(img.shape) == 3 and img.shape[2] == 3:\n",
    "        img = cv2.cvtColor(img, cv2.COLOR_BGR2RGB)\n",
    "    \n",
    "    # Масштабируем под нужный размер модели\n",
    "    img = cv2.resize(img, target_size)\n",
    "    \n",
    "    # Нормализация в диапазон [0, 1]\n",
    "    img = img.astype(np.float32) / 255.0\n",
    "    \n",
    "    # Добавляем батч размерности\n",
    "    img = np.expand_dims(img, axis=0)\n",
    "    \n",
    "    return img"
   ]
  },
  {
   "cell_type": "code",
   "execution_count": 5,
   "id": "8743fede-adb6-4c40-bb71-3f82db8f43a2",
   "metadata": {},
   "outputs": [],
   "source": [
    "#Функция для построения графиков распределения в каждом из признаков .\n",
    "def hist_graph(df, list_pl, list_pl_name, suptitle='', p_hue=None):\n",
    "    max_row = 1\n",
    "    #Фигура для графиков и заголовке \n",
    "    plt.figure(figsize=[15,2])\n",
    "    plt.suptitle (suptitle , ha='center', fontsize='25')\n",
    "    plt.subplots_adjust(top=0.93, hspace=0.3)\n",
    "    \n",
    "    for i,param, name in zip(range(0,len(list_pl)),list_param, list_name_param):\n",
    "        plt.subplot(max_row,2,i+1)\n",
    "        #График распределения всех параметров по категориям\n",
    "        fig = sns.histplot(data=df, x=param, hue=p_hue, bins = 10) \n",
    "        plt.xlabel('Значение', fontsize=\"10\")\n",
    "        plt.ylabel('Частота', fontsize=\"10\")\n",
    "        plt.title(name, fontsize=\"15\")\n",
    "    plt.show()"
   ]
  },
  {
   "cell_type": "markdown",
   "id": "e81fbc74-1ada-47cd-9657-1beac710a17a",
   "metadata": {},
   "source": [
    "## Собираем информацио о фотографиях"
   ]
  },
  {
   "cell_type": "markdown",
   "id": "95cfa265-e587-4246-84e4-6b22e6784619",
   "metadata": {},
   "source": [
    "### Парсинг фотографий из VK"
   ]
  },
  {
   "cell_type": "code",
   "execution_count": 8,
   "id": "48dc7af8-a981-432e-a805-2261585713da",
   "metadata": {},
   "outputs": [
    {
     "name": "stdout",
     "output_type": "stream",
     "text": [
      "\n",
      "📥 Загрузка фотографий: группа westra_tk, альбом 306954587, папка 2025\n"
     ]
    },
    {
     "name": "stderr",
     "output_type": "stream",
     "text": [
      "westra_tk_2025:   5%|███▏                                                            | 50/1000 [00:12<04:00,  3.94it/s]\n"
     ]
    },
    {
     "name": "stdout",
     "output_type": "stream",
     "text": [
      "✅ Загружено 50 фото в data/raw/2025\n",
      "\n",
      "📥 Загрузка фотографий: группа westra_tk, альбом 302408908, папка 2024\n"
     ]
    },
    {
     "name": "stderr",
     "output_type": "stream",
     "text": [
      "westra_tk_2024:   5%|███▏                                                            | 50/1000 [00:11<03:29,  4.52it/s]\n"
     ]
    },
    {
     "name": "stdout",
     "output_type": "stream",
     "text": [
      "✅ Загружено 50 фото в data/raw/2024\n",
      "\n",
      "📥 Загрузка фотографий: группа westra_tk, альбом 292582934, папка 2023\n"
     ]
    },
    {
     "name": "stderr",
     "output_type": "stream",
     "text": [
      "westra_tk_2023:   9%|██████                                                           | 50/532 [00:13<02:13,  3.61it/s]\n"
     ]
    },
    {
     "name": "stdout",
     "output_type": "stream",
     "text": [
      "✅ Загружено 50 фото в data/raw/2023\n",
      "\n",
      "📥 Загрузка фотографий: группа westra_tk, альбом 283784929, папка 2022\n"
     ]
    },
    {
     "name": "stderr",
     "output_type": "stream",
     "text": [
      "westra_tk_2022:   9%|█████▊                                                           | 50/555 [00:11<01:54,  4.41it/s]"
     ]
    },
    {
     "name": "stdout",
     "output_type": "stream",
     "text": [
      "✅ Загружено 50 фото в data/raw/2022\n"
     ]
    },
    {
     "name": "stderr",
     "output_type": "stream",
     "text": [
      "\n"
     ]
    }
   ],
   "source": [
    "def resolve_group_id(vk, group_identifier):\n",
    "    \"\"\"Конвертирует screen_name в ID или возвращает числовой ID\"\"\"\n",
    "    if isinstance(group_identifier, int):\n",
    "        return group_identifier\n",
    "    try:\n",
    "        result = vk.method(\"utils.resolveScreenName\", {\"screen_name\": group_identifier})\n",
    "        if result and result[\"type\"] == \"group\":\n",
    "            return -result[\"object_id\"]\n",
    "        raise ValueError(f\"Группа {group_identifier} не найдена\")\n",
    "    except Exception as e:\n",
    "        print(f\"Ошибка при получении ID: {e}\")\n",
    "        return None\n",
    "\n",
    "\n",
    "def download_photos():\n",
    "    vk = vk_api.VkApi(token=TOKEN)\n",
    "\n",
    "    for group_name, group_id in GROUPS.items():\n",
    "        resolved_id = resolve_group_id(vk, group_id)\n",
    "        if not resolved_id:\n",
    "            continue\n",
    "\n",
    "        album_ids = ALBUM_IDS.get(group_name)\n",
    "        if not album_ids:\n",
    "            print(f\"Пропущена группа {group_name}: album_ids не заданы.\")\n",
    "            continue\n",
    "\n",
    "        # Получаем информацию об альбомах\n",
    "        try:\n",
    "            albums = vk.method(\"photos.getAlbums\", {\n",
    "                \"owner_id\": resolved_id,\n",
    "                \"need_system\": 1\n",
    "            })\n",
    "        except Exception as e:\n",
    "            print(f\"❌ Не удалось получить альбомы группы {group_name}: {e}\")\n",
    "            continue\n",
    "\n",
    "        # Сопоставляем album_id -> year\n",
    "        album_years = {}\n",
    "        for album in albums.get(\"items\", []):\n",
    "            if album[\"id\"] in album_ids:\n",
    "                dt = datetime.fromtimestamp(album[\"created\"])\n",
    "                album_years[album[\"id\"]] = str(dt.year)\n",
    "\n",
    "        for album_id in album_ids:\n",
    "            year = album_years.get(album_id, str(album_id))\n",
    "            save_dir = os.path.join(PHOTO_PATH, year)\n",
    "\n",
    "            # Удаляем и создаём папку заново\n",
    "            if os.path.exists(save_dir):\n",
    "                shutil.rmtree(save_dir)\n",
    "            os.makedirs(save_dir, exist_ok=True)\n",
    "\n",
    "            print(f\"\\n📥 Загрузка фотографий: группа {group_name}, альбом {album_id}, папка {year}\")\n",
    "\n",
    "            downloaded = 0\n",
    "\n",
    "            try:\n",
    "                photos = vk.method(\"photos.get\", {\n",
    "                    \"owner_id\": resolved_id,\n",
    "                    \"album_id\": album_id,\n",
    "                    \"extended\": 0,\n",
    "                    \"count\": 1000\n",
    "                })\n",
    "\n",
    "                sorted_photos = sorted(photos.get(\"items\", []), key=lambda x: x[\"date\"], reverse=True)\n",
    "\n",
    "                for photo in tqdm(sorted_photos, desc=f\"{group_name}_{year}\"):\n",
    "                    if downloaded >= MAX_PHOTOS:\n",
    "                        break\n",
    "                    try:\n",
    "                        url = None\n",
    "                        for ptype in PREF_SIZES:\n",
    "                            url = next((size[\"url\"] for size in photo[\"sizes\"] if size[\"type\"] == ptype), None)\n",
    "                            if url:\n",
    "                                break\n",
    "                        if not url and \"sizes\" in photo:\n",
    "                            url = photo[\"sizes\"][0][\"url\"]\n",
    "\n",
    "                        response = requests.get(url, timeout=10)\n",
    "                        img = Image.open(BytesIO(response.content))\n",
    "                        filename = f\"{group_name}_{year}_{downloaded + 1:04d}.jpg\"\n",
    "                        img.save(os.path.join(save_dir, filename))\n",
    "                        downloaded += 1\n",
    "                    except Exception as e:\n",
    "                        print(f\" ⚠️ Ошибка загрузки фото: {e}\")\n",
    "\n",
    "            except Exception as e:\n",
    "                print(f\"❌ Ошибка загрузки альбома {album_id} для группы {group_name}: {e}\")\n",
    "\n",
    "            print(f\"✅ Загружено {downloaded} фото в {save_dir}\")\n",
    "\n",
    "\n",
    "# Запуск\n",
    "if __name__ == \"__main__\":\n",
    "    download_photos()\n"
   ]
  },
  {
   "cell_type": "markdown",
   "id": "ebea3334-53ed-4ef4-bc76-a7e24404e0f6",
   "metadata": {},
   "source": [
    "### Поиск лиц"
   ]
  },
  {
   "cell_type": "raw",
   "id": "e3f2c28a-1e28-411b-8742-e54051e2f0d9",
   "metadata": {
    "scrolled": true
   },
   "source": [
    "# Отключаем GPU\n",
    "os.environ[\"CUDA_VISIBLE_DEVICES\"] = \"-1\"\n",
    "\n",
    "# Загружаем модель один раз\n",
    "model = DeepFace.build_model(MODEL_NAME)\n",
    "\n",
    "# Перебираем все папки в PHOTO_PATH (по годам)\n",
    "for year_folder in sorted(os.listdir(PHOTO_PATH)):\n",
    "    source_folder = os.path.join(PHOTO_PATH, year_folder)\n",
    "    if not os.path.isdir(source_folder):\n",
    "        continue\n",
    "\n",
    "    print(f\"\\n=== Обработка лиц: {year_folder} ===\")\n",
    "\n",
    "    faces_output_folder = os.path.join(FACE_PATH, year_folder)\n",
    "    embeddings_output_path = os.path.join(FACE_PATH, f\"{year_folder}_embeddings_info.pkl\")\n",
    "\n",
    "    if not os.path.exists(source_folder):\n",
    "        print(f\" Пропущено: нет фото в {source_folder}\")\n",
    "        continue\n",
    "\n",
    "    if os.path.exists(faces_output_folder):\n",
    "        shutil.rmtree(faces_output_folder)\n",
    "    os.makedirs(faces_output_folder)\n",
    "\n",
    "    embeddings_info = []\n",
    "    face_counter = 0\n",
    "\n",
    "    images = [f for f in os.listdir(source_folder) if f.lower().endswith((\".jpg\", \".jpeg\", \".png\"))]\n",
    "    print(f\" Найдено {len(images)} изображений для обработки...\")\n",
    "\n",
    "    for img_name in tqdm(images, desc=f\" Поиск лиц: {year_folder}\"):\n",
    "        img_path = os.path.join(source_folder, img_name)\n",
    "        try:\n",
    "            detections = DeepFace.extract_faces(\n",
    "                img_path=img_path,\n",
    "                detector_backend=DETECT_BACK,\n",
    "                enforce_detection=False,\n",
    "                align=False\n",
    "            )\n",
    "\n",
    "            for i, face_obj in enumerate(detections):\n",
    "                face_img = face_obj[\"face\"]\n",
    "\n",
    "                # Чистка NaN и dtype\n",
    "                face_img = np.nan_to_num(face_img)\n",
    "                if face_img.dtype != np.uint8:\n",
    "                    if face_img.max() > 2.0:\n",
    "                        face_img = np.clip(face_img, 0, 255).astype(np.uint8)\n",
    "                    else:\n",
    "                        face_img = np.clip(face_img * 255.0, 0, 255).astype(np.uint8)\n",
    "\n",
    "                h, w = face_img.shape[:2]\n",
    "                if w < FACE_SIZE or h < FACE_SIZE:\n",
    "                    continue\n",
    "                if is_blurry(face_img, threshold=100.0):\n",
    "                    continue\n",
    "\n",
    "                # Сохраняем изображение лица\n",
    "                face_filename = f\"{year_folder}_{face_counter:05d}.jpg\"\n",
    "                face_save_path = os.path.join(faces_output_folder, face_filename)\n",
    "                cv2.imwrite(face_save_path, cv2.cvtColor(face_img, cv2.COLOR_RGB2BGR))\n",
    "\n",
    "                # Вычисляем эмбеддинг\n",
    "                embedding_obj = DeepFace.represent(\n",
    "                    img_path=face_save_path,\n",
    "                    model_name=MODEL_NAME,\n",
    "                    enforce_detection=False,\n",
    "                    detector_backend=\"skip\"\n",
    "                )\n",
    "                embedding = embedding_obj[0][\"embedding\"]\n",
    "\n",
    "                embeddings_info.append((embedding, face_img, img_name))\n",
    "                face_counter += 1\n",
    "\n",
    "        except Exception as e:\n",
    "            print(f\" ⚠️ Ошибка при обработке {img_name}: {e}\")\n",
    "\n",
    "    # Сохраняем эмбеддинги\n",
    "    with open(embeddings_output_path, \"wb\") as f:\n",
    "        pickle.dump(embeddings_info, f)\n",
    "\n",
    "    print(f\" ✅ Лица сохранены в {faces_output_folder}\")\n",
    "    print(f\" ✅ Эмбеддинги сохранены в {embeddings_output_path}\")\n",
    "    print(f\" 👥 Уникальных фрагментов: {len(embeddings_info)}\")"
   ]
  },
  {
   "cell_type": "markdown",
   "id": "3826175a-9dcb-4e89-9b51-f2f6b604b806",
   "metadata": {},
   "source": [
    "### Уникальные лица (+фильтр)"
   ]
  },
  {
   "cell_type": "code",
   "execution_count": 10,
   "id": "5523a878-dc9a-4fed-be77-8c97e1e7ed0e",
   "metadata": {},
   "outputs": [
    {
     "name": "stdout",
     "output_type": "stream",
     "text": [
      "\n",
      "📂 Уникализация: 2022\n"
     ]
    },
    {
     "name": "stderr",
     "output_type": "stream",
     "text": [
      " Уникальные лица: 2022: 100%|█████████████████████████████████████████████████████████| 63/63 [00:00<00:00, 157.00it/s]\n"
     ]
    },
    {
     "name": "stdout",
     "output_type": "stream",
     "text": [
      "✅ Уникальных лиц сохранено: 38 из 63\n",
      "\n",
      "📂 Уникализация: 2023\n"
     ]
    },
    {
     "name": "stderr",
     "output_type": "stream",
     "text": [
      " Уникальные лица: 2023: 100%|█████████████████████████████████████████████████████████| 65/65 [00:00<00:00, 101.55it/s]\n"
     ]
    },
    {
     "name": "stdout",
     "output_type": "stream",
     "text": [
      "✅ Уникальных лиц сохранено: 52 из 65\n",
      "\n",
      "📂 Уникализация: 2024\n"
     ]
    },
    {
     "name": "stderr",
     "output_type": "stream",
     "text": [
      " Уникальные лица: 2024: 100%|███████████████████████████████████████████████████████| 136/136 [00:01<00:00, 125.54it/s]\n"
     ]
    },
    {
     "name": "stdout",
     "output_type": "stream",
     "text": [
      "✅ Уникальных лиц сохранено: 65 из 136\n",
      "\n",
      "📂 Уникализация: 2025\n"
     ]
    },
    {
     "name": "stderr",
     "output_type": "stream",
     "text": [
      " Уникальные лица: 2025: 100%|█████████████████████████████████████████████████████████| 43/43 [00:00<00:00, 527.09it/s]"
     ]
    },
    {
     "name": "stdout",
     "output_type": "stream",
     "text": [
      "✅ Уникальных лиц сохранено: 17 из 43\n",
      "\n",
      "📊 Итоговая сводка:\n",
      "2022     — Уникальные:  38 / Всего:  63 (60.32%)\n",
      "2023     — Уникальные:  52 / Всего:  65 (80.00%)\n",
      "2024     — Уникальные:  65 / Всего: 136 (47.79%)\n",
      "2025     — Уникальные:  17 / Всего:  43 (39.53%)\n"
     ]
    },
    {
     "name": "stderr",
     "output_type": "stream",
     "text": [
      "\n"
     ]
    }
   ],
   "source": [
    "def filter_and_save_unique_faces(year_folder):\n",
    "    input_pkl = os.path.join(FACE_PATH, f\"{year_folder}_embeddings_info.pkl\")\n",
    "    output_dir = os.path.join(\"data/faces_unique\", year_folder)\n",
    "    os.makedirs(output_dir, exist_ok=True)\n",
    "\n",
    "    print(f\"\\n📂 Уникализация: {year_folder}\")\n",
    "\n",
    "    try:\n",
    "        with open(input_pkl, \"rb\") as f:\n",
    "            embeddings_info = pickle.load(f)\n",
    "    except FileNotFoundError:\n",
    "        print(f\"⛔ Пропущено: не найден {input_pkl}\")\n",
    "        return 0, 0\n",
    "\n",
    "    embeddings_array = np.array([item[0] for item in embeddings_info])\n",
    "\n",
    "    unique_indices = []\n",
    "    used = set()\n",
    "\n",
    "    for i in tqdm(range(len(embeddings_array)), desc=f\" Уникальные лица: {year_folder}\"):\n",
    "        if i in used:\n",
    "            continue\n",
    "        unique_indices.append(i)\n",
    "        for j in range(i + 1, len(embeddings_array)):\n",
    "            if j in used:\n",
    "                continue\n",
    "            distance = 1 - cosine_similarity([embeddings_array[i]], [embeddings_array[j]])[0][0]\n",
    "            if distance < THRESHOLD:\n",
    "                used.add(j)\n",
    "\n",
    "    for new_idx, original_idx in enumerate(unique_indices):\n",
    "        _, face_img, source_img_name = embeddings_info[original_idx]\n",
    "        filename = f\"{year_folder}_unique_{new_idx:05d}.jpg\"\n",
    "        cv2.imwrite(os.path.join(output_dir, filename), cv2.cvtColor(face_img, cv2.COLOR_RGB2BGR))\n",
    "\n",
    "    print(f\"✅ Уникальных лиц сохранено: {len(unique_indices)} из {len(embeddings_info)}\")\n",
    "    return len(unique_indices), len(embeddings_info)\n",
    "\n",
    "# 🔁 Перебираем все .pkl файлы в FACE_PATH\n",
    "summary = []\n",
    "for file in sorted(os.listdir(FACE_PATH)):\n",
    "    if file.endswith(\"_embeddings_info.pkl\"):\n",
    "        year = file.replace(\"_embeddings_info.pkl\", \"\")\n",
    "        unique_count, total_count = filter_and_save_unique_faces(year)\n",
    "        summary.append((year, unique_count, total_count))\n",
    "\n",
    "# 📊 Общая статистика\n",
    "print(\"\\n📊 Итоговая сводка:\")\n",
    "for year, unique_count, total_count in summary:\n",
    "    if total_count > 0:\n",
    "        print(f\"{year:8} — Уникальные: {unique_count:3d} / Всего: {total_count:3d} ({unique_count/total_count:.2%})\")\n",
    "    else:\n",
    "        print(f\"{year:8} — нет данных\")"
   ]
  },
  {
   "cell_type": "code",
   "execution_count": 22,
   "id": "620060a0-d101-4a0a-8f6e-8565305fa8e3",
   "metadata": {},
   "outputs": [
    {
     "name": "stdout",
     "output_type": "stream",
     "text": [
      "\n",
      "📊 Анализ лиц в группе: westra_tk\n"
     ]
    },
    {
     "name": "stderr",
     "output_type": "stream",
     "text": [
      "💾 westra_tk — анализ лиц: 100%|███████████████████████████████████████████████████████| 16/16 [00:06<00:00,  2.50it/s]\n"
     ]
    },
    {
     "name": "stdout",
     "output_type": "stream",
     "text": [
      "✅ Сохранено: 16 уникальных лиц из westra_tk\n",
      "\n",
      "📊 Анализ лиц в группе: runcomrun\n"
     ]
    },
    {
     "name": "stderr",
     "output_type": "stream",
     "text": [
      "💾 runcomrun — анализ лиц: 100%|███████████████████████████████████████████████████████| 80/80 [00:33<00:00,  2.40it/s]\n"
     ]
    },
    {
     "name": "stdout",
     "output_type": "stream",
     "text": [
      "✅ Сохранено: 80 уникальных лиц из runcomrun\n",
      "\n",
      "📊 Анализ лиц в группе: geekpicnic\n"
     ]
    },
    {
     "name": "stderr",
     "output_type": "stream",
     "text": [
      "💾 geekpicnic — анализ лиц: 100%|██████████████████████████████████████████████████████| 43/43 [00:17<00:00,  2.49it/s]"
     ]
    },
    {
     "name": "stdout",
     "output_type": "stream",
     "text": [
      "✅ Сохранено: 43 уникальных лиц из geekpicnic\n",
      "\n",
      "📁 Финальный CSV сохранён в dataset/analysis_results.csv\n"
     ]
    },
    {
     "name": "stderr",
     "output_type": "stream",
     "text": [
      "\n"
     ]
    }
   ],
   "source": [
    "def analyze_and_save_demographics(group_name, embeddings_info, unique_indices):\n",
    "    output_folder = os.path.join(UNIQUE_PATH, group_name)\n",
    "    os.makedirs(output_folder, exist_ok=True)\n",
    "\n",
    "    columns = [\n",
    "        \"filename\", \"face_number\", \"gender\", \"gender_score\",\n",
    "        \"emotion\", \"emotion_score\", \"age\", \"analysis_time\", \"group\"\n",
    "    ]\n",
    "    group_df = pd.DataFrame(columns=columns)\n",
    "    face_counter = 0\n",
    "\n",
    "    print(f\"\\n📊 Анализ лиц в группе: {group_name}\")\n",
    "\n",
    "    for idx in tqdm(unique_indices, desc=f\"💾 {group_name} — анализ лиц\"):\n",
    "        embedding, face_img_save, source_img_name = embeddings_info[idx]\n",
    "\n",
    "        face_filename = f\"{group_name}_face_{face_counter:05d}.jpg\"\n",
    "        face_save_path = os.path.join(output_folder, face_filename)\n",
    "        cv2.imwrite(face_save_path, cv2.cvtColor(face_img_save, cv2.COLOR_RGB2BGR))\n",
    "\n",
    "        try:\n",
    "            analysis_results = DeepFace.analyze(\n",
    "                img_path=face_save_path,\n",
    "                actions=[\"age\", \"gender\", \"emotion\"],\n",
    "                detector_backend=\"skip\",\n",
    "                enforce_detection=False,\n",
    "                align=False,\n",
    "                silent=True\n",
    "            )\n",
    "\n",
    "            face = analysis_results[0] if isinstance(analysis_results, list) else analysis_results\n",
    "            gender = \"Man\" if face[\"gender\"][\"Woman\"] < face[\"gender\"][\"Man\"] else \"Woman\"\n",
    "            gender_score = face[\"gender\"][gender]\n",
    "            emotion = max(face[\"emotion\"], key=face[\"emotion\"].get)\n",
    "            emotion_score = face[\"emotion\"][emotion]\n",
    "\n",
    "            new_row = {\n",
    "                \"filename\": face_filename,\n",
    "                \"face_number\": face_counter + 1,\n",
    "                \"gender\": gender,\n",
    "                \"gender_score\": gender_score,\n",
    "                \"emotion\": emotion,\n",
    "                \"emotion_score\": emotion_score,\n",
    "                \"age\": face[\"age\"],\n",
    "                \"analysis_time\": datetime.now().strftime(\"%Y-%m-%d %H:%M:%S\"),\n",
    "                \"group\": group_name\n",
    "            }\n",
    "            group_df = pd.concat([group_df, pd.DataFrame([new_row])], ignore_index=True)\n",
    "\n",
    "        except Exception as e:\n",
    "            print(f\"  ⚠️ Ошибка при анализе {face_filename}: {e}\")\n",
    "\n",
    "        face_counter += 1\n",
    "\n",
    "    print(f\"✅ Сохранено: {face_counter} уникальных лиц из {group_name}\")\n",
    "    return group_df\n",
    "\n",
    "\n",
    "# 🔁 Объединённая таблица\n",
    "all_results_df = pd.DataFrame()\n",
    "\n",
    "# 🔍 Перебираем все *_embeddings_info.pkl\n",
    "for file in sorted(os.listdir(FACE_PATH)):\n",
    "    if not file.endswith(\"_embeddings_info.pkl\"):\n",
    "        continue\n",
    "\n",
    "    group_name = file.replace(\"_embeddings_info.pkl\", \"\")\n",
    "    embeddings_path = os.path.join(FACE_PATH, file)\n",
    "\n",
    "    try:\n",
    "        with open(embeddings_path, \"rb\") as f:\n",
    "            embeddings_info = pickle.load(f)\n",
    "    except:\n",
    "        print(f\"⛔ Пропуск {group_name}: не удалось загрузить {file}\")\n",
    "        continue\n",
    "\n",
    "    embeddings_array = np.array([item[0] for item in embeddings_info])\n",
    "\n",
    "    # Уникализация\n",
    "    unique_indices = []\n",
    "    used = set()\n",
    "    for i in range(len(embeddings_array)):\n",
    "        if i in used:\n",
    "            continue\n",
    "        unique_indices.append(i)\n",
    "        for j in range(i + 1, len(embeddings_array)):\n",
    "            if j in used:\n",
    "                continue\n",
    "            distance = 1 - cosine_similarity([embeddings_array[i]], [embeddings_array[j]])[0][0]\n",
    "            if distance < THRESHOLD:\n",
    "                used.add(j)\n",
    "\n",
    "    group_df = analyze_and_save_demographics(group_name, embeddings_info, unique_indices)\n",
    "    all_results_df = pd.concat([all_results_df, group_df], ignore_index=True)\n",
    "\n",
    "# 💾 Сохраняем общий результат\n",
    "all_results_df.to_csv(OUTPUT_CSV, index=False, encoding=\"utf-8\")\n",
    "print(f\"\\n📁 Финальный CSV сохранён в {OUTPUT_CSV}\")"
   ]
  },
  {
   "cell_type": "markdown",
   "id": "1241d31d-5091-463c-80b9-79cfadf15ca2",
   "metadata": {},
   "source": [
    "### Первичный анализ по лицам"
   ]
  },
  {
   "cell_type": "code",
   "execution_count": 23,
   "id": "09951bf5-57d3-4ebf-9a02-40bbc5178f5c",
   "metadata": {},
   "outputs": [
    {
     "data": {
      "text/html": [
       "<div>\n",
       "<style scoped>\n",
       "    .dataframe tbody tr th:only-of-type {\n",
       "        vertical-align: middle;\n",
       "    }\n",
       "\n",
       "    .dataframe tbody tr th {\n",
       "        vertical-align: top;\n",
       "    }\n",
       "\n",
       "    .dataframe thead th {\n",
       "        text-align: right;\n",
       "    }\n",
       "</style>\n",
       "<table border=\"1\" class=\"dataframe\">\n",
       "  <thead>\n",
       "    <tr style=\"text-align: right;\">\n",
       "      <th></th>\n",
       "      <th>filename</th>\n",
       "      <th>face_number</th>\n",
       "      <th>gender</th>\n",
       "      <th>gender_score</th>\n",
       "      <th>emotion</th>\n",
       "      <th>emotion_score</th>\n",
       "      <th>age</th>\n",
       "      <th>analysis_time</th>\n",
       "      <th>group</th>\n",
       "    </tr>\n",
       "  </thead>\n",
       "  <tbody>\n",
       "    <tr>\n",
       "      <th>0</th>\n",
       "      <td>westra_tk_face_00000.jpg</td>\n",
       "      <td>1</td>\n",
       "      <td>Man</td>\n",
       "      <td>99.67</td>\n",
       "      <td>sad</td>\n",
       "      <td>81.86</td>\n",
       "      <td>42</td>\n",
       "      <td>2025-05-02 18:40:02</td>\n",
       "      <td>westra_tk</td>\n",
       "    </tr>\n",
       "    <tr>\n",
       "      <th>1</th>\n",
       "      <td>westra_tk_face_00001.jpg</td>\n",
       "      <td>2</td>\n",
       "      <td>Man</td>\n",
       "      <td>59.31</td>\n",
       "      <td>neutral</td>\n",
       "      <td>99.16</td>\n",
       "      <td>32</td>\n",
       "      <td>2025-05-02 18:40:02</td>\n",
       "      <td>westra_tk</td>\n",
       "    </tr>\n",
       "    <tr>\n",
       "      <th>2</th>\n",
       "      <td>westra_tk_face_00002.jpg</td>\n",
       "      <td>3</td>\n",
       "      <td>Man</td>\n",
       "      <td>98.87</td>\n",
       "      <td>sad</td>\n",
       "      <td>75.17</td>\n",
       "      <td>34</td>\n",
       "      <td>2025-05-02 18:40:03</td>\n",
       "      <td>westra_tk</td>\n",
       "    </tr>\n",
       "    <tr>\n",
       "      <th>3</th>\n",
       "      <td>westra_tk_face_00003.jpg</td>\n",
       "      <td>4</td>\n",
       "      <td>Man</td>\n",
       "      <td>99.24</td>\n",
       "      <td>angry</td>\n",
       "      <td>100.00</td>\n",
       "      <td>45</td>\n",
       "      <td>2025-05-02 18:40:03</td>\n",
       "      <td>westra_tk</td>\n",
       "    </tr>\n",
       "    <tr>\n",
       "      <th>4</th>\n",
       "      <td>westra_tk_face_00004.jpg</td>\n",
       "      <td>5</td>\n",
       "      <td>Man</td>\n",
       "      <td>96.05</td>\n",
       "      <td>fear</td>\n",
       "      <td>90.51</td>\n",
       "      <td>36</td>\n",
       "      <td>2025-05-02 18:40:04</td>\n",
       "      <td>westra_tk</td>\n",
       "    </tr>\n",
       "    <tr>\n",
       "      <th>...</th>\n",
       "      <td>...</td>\n",
       "      <td>...</td>\n",
       "      <td>...</td>\n",
       "      <td>...</td>\n",
       "      <td>...</td>\n",
       "      <td>...</td>\n",
       "      <td>...</td>\n",
       "      <td>...</td>\n",
       "      <td>...</td>\n",
       "    </tr>\n",
       "    <tr>\n",
       "      <th>134</th>\n",
       "      <td>geekpicnic_face_00038.jpg</td>\n",
       "      <td>39</td>\n",
       "      <td>Man</td>\n",
       "      <td>99.96</td>\n",
       "      <td>sad</td>\n",
       "      <td>63.81</td>\n",
       "      <td>22</td>\n",
       "      <td>2025-05-02 18:40:58</td>\n",
       "      <td>geekpicnic</td>\n",
       "    </tr>\n",
       "    <tr>\n",
       "      <th>135</th>\n",
       "      <td>geekpicnic_face_00039.jpg</td>\n",
       "      <td>40</td>\n",
       "      <td>Man</td>\n",
       "      <td>99.91</td>\n",
       "      <td>sad</td>\n",
       "      <td>58.09</td>\n",
       "      <td>20</td>\n",
       "      <td>2025-05-02 18:40:59</td>\n",
       "      <td>geekpicnic</td>\n",
       "    </tr>\n",
       "    <tr>\n",
       "      <th>136</th>\n",
       "      <td>geekpicnic_face_00040.jpg</td>\n",
       "      <td>41</td>\n",
       "      <td>Man</td>\n",
       "      <td>99.30</td>\n",
       "      <td>sad</td>\n",
       "      <td>87.71</td>\n",
       "      <td>24</td>\n",
       "      <td>2025-05-02 18:40:59</td>\n",
       "      <td>geekpicnic</td>\n",
       "    </tr>\n",
       "    <tr>\n",
       "      <th>137</th>\n",
       "      <td>geekpicnic_face_00041.jpg</td>\n",
       "      <td>42</td>\n",
       "      <td>Man</td>\n",
       "      <td>99.91</td>\n",
       "      <td>happy</td>\n",
       "      <td>98.41</td>\n",
       "      <td>22</td>\n",
       "      <td>2025-05-02 18:41:00</td>\n",
       "      <td>geekpicnic</td>\n",
       "    </tr>\n",
       "    <tr>\n",
       "      <th>138</th>\n",
       "      <td>geekpicnic_face_00042.jpg</td>\n",
       "      <td>43</td>\n",
       "      <td>Man</td>\n",
       "      <td>99.38</td>\n",
       "      <td>neutral</td>\n",
       "      <td>99.59</td>\n",
       "      <td>23</td>\n",
       "      <td>2025-05-02 18:41:00</td>\n",
       "      <td>geekpicnic</td>\n",
       "    </tr>\n",
       "  </tbody>\n",
       "</table>\n",
       "<p>139 rows × 9 columns</p>\n",
       "</div>"
      ],
      "text/plain": [
       "                      filename  face_number gender  gender_score  emotion  emotion_score  age        analysis_time       group\n",
       "0     westra_tk_face_00000.jpg            1    Man         99.67      sad          81.86   42  2025-05-02 18:40:02   westra_tk\n",
       "1     westra_tk_face_00001.jpg            2    Man         59.31  neutral          99.16   32  2025-05-02 18:40:02   westra_tk\n",
       "2     westra_tk_face_00002.jpg            3    Man         98.87      sad          75.17   34  2025-05-02 18:40:03   westra_tk\n",
       "3     westra_tk_face_00003.jpg            4    Man         99.24    angry         100.00   45  2025-05-02 18:40:03   westra_tk\n",
       "4     westra_tk_face_00004.jpg            5    Man         96.05     fear          90.51   36  2025-05-02 18:40:04   westra_tk\n",
       "..                         ...          ...    ...           ...      ...            ...  ...                  ...         ...\n",
       "134  geekpicnic_face_00038.jpg           39    Man         99.96      sad          63.81   22  2025-05-02 18:40:58  geekpicnic\n",
       "135  geekpicnic_face_00039.jpg           40    Man         99.91      sad          58.09   20  2025-05-02 18:40:59  geekpicnic\n",
       "136  geekpicnic_face_00040.jpg           41    Man         99.30      sad          87.71   24  2025-05-02 18:40:59  geekpicnic\n",
       "137  geekpicnic_face_00041.jpg           42    Man         99.91    happy          98.41   22  2025-05-02 18:41:00  geekpicnic\n",
       "138  geekpicnic_face_00042.jpg           43    Man         99.38  neutral          99.59   23  2025-05-02 18:41:00  geekpicnic\n",
       "\n",
       "[139 rows x 9 columns]"
      ]
     },
     "execution_count": 23,
     "metadata": {},
     "output_type": "execute_result"
    }
   ],
   "source": [
    "#Основные данные об электродах;\n",
    "df_face = pd.read_csv(OUTPUT_CSV, sep=',', decimal='.')\n",
    "df_face "
   ]
  },
  {
   "cell_type": "code",
   "execution_count": 24,
   "id": "3df7e785-913c-4e05-94a1-ea238ca4a83a",
   "metadata": {},
   "outputs": [
    {
     "name": "stdout",
     "output_type": "stream",
     "text": [
      "=== Общее распределение по гендеру (%) ===\n",
      "gender\n",
      "Man     67.63\n",
      "Woman   32.37\n",
      "Name: proportion, dtype: float64 \n",
      "\n",
      "=== Общее распределение по эмоциям (%) ===\n",
      "emotion\n",
      "happy      28.78\n",
      "sad        23.02\n",
      "neutral    19.42\n",
      "angry      15.11\n",
      "fear       12.23\n",
      "surprise    0.72\n",
      "disgust     0.72\n",
      "Name: proportion, dtype: float64 \n",
      "\n",
      "=== Распределение по возрастным группам (%) ===\n",
      "age_group\n",
      "<18      0.00\n",
      "18–29   37.41\n",
      "30–44   57.55\n",
      "45–59    5.04\n",
      "60+      0.00\n",
      "Name: proportion, dtype: float64 \n",
      "\n",
      "=== Гендер по возрастным группам (%) ===\n",
      "gender      Man  Woman\n",
      "age_group             \n",
      "18–29     61.54  38.46\n",
      "30–44     71.25  28.75\n",
      "45–59     71.43  28.57 \n",
      "\n",
      "=== Эмоции по возрастным группам (%) ===\n",
      "emotion    angry  disgust  fear  happy  neutral   sad  surprise\n",
      "age_group                                                      \n",
      "18–29       9.62     1.92  9.62  32.69    13.46 32.69      0.00\n",
      "30–44      16.25     0.00 13.75  27.50    23.75 17.50      1.25\n",
      "45–59      42.86     0.00 14.29  14.29    14.29 14.29      0.00\n"
     ]
    }
   ],
   "source": [
    "bins = [0, 18, 30, 45, 60, 100]\n",
    "labels = ['<18', '18–29', '30–44', '45–59', '60+']\n",
    "df_face['age_group'] = pd.cut(df_face['age'], bins=bins, labels=labels, right=False)\n",
    "\n",
    "# 2. Общее распределение гендера и эмоций (в %)\n",
    "gender_dist = df_face['gender'].value_counts(normalize=True) * 100\n",
    "emotion_dist = df_face['emotion'].value_counts(normalize=True) * 100\n",
    "\n",
    "# 3. Распределение по возрастным группам (в %)\n",
    "age_group_dist = df_face['age_group'].value_counts(normalize=True) * 100\n",
    "\n",
    "# 4. Гендер по возрастным группам (каждый возраст – 100%)\n",
    "gender_by_age = pd.crosstab(df_face['age_group'], df_face['gender'], normalize='index') * 100\n",
    "\n",
    "# 5. Эмоции по возрастным группам\n",
    "emotion_by_age = pd.crosstab(df_face['age_group'], df_face['emotion'], normalize='index') * 100\n",
    "\n",
    "# 6. Выводим результаты\n",
    "print(\"=== Общее распределение по гендеру (%) ===\")\n",
    "print(gender_dist.round(2), '\\n')\n",
    "\n",
    "print(\"=== Общее распределение по эмоциям (%) ===\")\n",
    "print(emotion_dist.round(2), '\\n')\n",
    "\n",
    "print(\"=== Распределение по возрастным группам (%) ===\")\n",
    "print(age_group_dist.sort_index().round(2), '\\n')\n",
    "\n",
    "print(\"=== Гендер по возрастным группам (%) ===\")\n",
    "print(gender_by_age.round(2), '\\n')\n",
    "\n",
    "print(\"=== Эмоции по возрастным группам (%) ===\")\n",
    "print(emotion_by_age.round(2))"
   ]
  },
  {
   "cell_type": "code",
   "execution_count": 25,
   "id": "8fae97ec-7005-46e1-ad3a-27c30aae38f6",
   "metadata": {
    "scrolled": true
   },
   "outputs": [
    {
     "data": {
      "image/png": "[encoded data removed]",
      "text/plain": [
       "<Figure size 1500x200 with 1 Axes>"
      ]
     },
     "metadata": {},
     "output_type": "display_data"
    }
   ],
   "source": [
    "#Параметры для построения графиков\n",
    "list_param = ['gender']\n",
    "#Наименования параметров для построения графиков\n",
    "list_name_param = ['Пол']\n",
    "#Заголовок листа\n",
    "suptitle = ''\n",
    "#Построение графиков\n",
    "hist_graph (df_face,list_param,list_name_param,suptitle)"
   ]
  },
  {
   "cell_type": "code",
   "execution_count": 26,
   "id": "500730a3-7752-4ef1-83e2-791c44efd9e0",
   "metadata": {},
   "outputs": [
    {
     "data": {
      "image/png": "[encoded data removed]",
      "text/plain": [
       "<Figure size 1500x200 with 1 Axes>"
      ]
     },
     "metadata": {},
     "output_type": "display_data"
    }
   ],
   "source": [
    "#Параметры для построения графиков\n",
    "list_param = ['age']\n",
    "#Наименования параметров для построения графиков\n",
    "list_name_param = ['Возраст']\n",
    "#Заголовок листа\n",
    "suptitle = ''\n",
    "#Построение графиков\n",
    "hist_graph (df_face,list_param,list_name_param,suptitle)"
   ]
  },
  {
   "cell_type": "code",
   "execution_count": 27,
   "id": "82c73033-1af4-4464-add2-82107ccc7078",
   "metadata": {
    "scrolled": true
   },
   "outputs": [
    {
     "data": {
      "image/png": "[encoded data removed]",
      "text/plain": [
       "<Figure size 1500x200 with 1 Axes>"
      ]
     },
     "metadata": {},
     "output_type": "display_data"
    }
   ],
   "source": [
    "#Параметры для построения графиков\n",
    "list_param = ['emotion']\n",
    "#Наименования параметров для построения графиков\n",
    "list_name_param = ['Эмоции']\n",
    "#Заголовок листа\n",
    "suptitle = ''\n",
    "#Построение графиков\n",
    "hist_graph (df_face,list_param,list_name_param,suptitle)"
   ]
  },
  {
   "cell_type": "markdown",
   "id": "3da2d6d4-79ea-4e6e-8083-c6cc7bae70f7",
   "metadata": {},
   "source": [
    "## Собираем контекстную информацию о группе"
   ]
  },
  {
   "cell_type": "code",
   "execution_count": 29,
   "id": "77092e5c-315e-465f-993e-5bc266dbbf82",
   "metadata": {},
   "outputs": [
    {
     "name": "stdout",
     "output_type": "stream",
     "text": [
      "✅ Подключение к VK API установлено.\n"
     ]
    },
    {
     "name": "stderr",
     "output_type": "stream",
     "text": [
      "[nltk_data] Downloading package stopwords to\n",
      "[nltk_data]     C:\\Users\\Doctor_PC\\AppData\\Roaming\\nltk_data...\n",
      "[nltk_data]   Package stopwords is already up-to-date!\n"
     ]
    }
   ],
   "source": [
    "# Для обработки текста\n",
    "nltk.download('stopwords')\n",
    "\n",
    "russian_stopwords = set(stopwords.words(\"russian\"))\n",
    "\n",
    "# 2. Настройки\n",
    "POSTS_LIMIT = 100\n",
    "\n",
    "# 3. Подключение к VK API\n",
    "vk_session = vk_api.VkApi(token=TOKEN)\n",
    "vk = vk_session.get_api()\n",
    "\n",
    "print(\"✅ Подключение к VK API установлено.\")"
   ]
  },
  {
   "cell_type": "markdown",
   "id": "91389af7-d0ea-47a5-a877-4d9189c1fbdd",
   "metadata": {},
   "source": [
    "### Скачивание последних постов со стены группы"
   ]
  },
  {
   "cell_type": "code",
   "execution_count": 30,
   "id": "2fe78e9b-0406-4673-be7b-9a4eed197821",
   "metadata": {
    "scrolled": true
   },
   "outputs": [
    {
     "name": "stdout",
     "output_type": "stream",
     "text": [
      "\n",
      "📥 Скачиваем посты из группы: westra_tk\n",
      "✅ Загружено 100 постов.\n",
      "\n",
      "📥 Скачиваем посты из группы: runcomrun\n",
      "✅ Загружено 100 постов.\n",
      "\n",
      "📥 Скачиваем посты из группы: geekpicnic\n",
      "✅ Загружено 100 постов.\n"
     ]
    }
   ],
   "source": [
    "group_posts = []\n",
    "\n",
    "for group_name, group_id in GROUPS.items():\n",
    "    print(f\"\\n📥 Скачиваем посты из группы: {group_name}\")\n",
    "    try:\n",
    "        response = vk.wall.get(owner_id=group_id, count=POSTS_LIMIT)\n",
    "        posts = response['items']\n",
    "        print(f\"✅ Загружено {len(posts)} постов.\")\n",
    "        \n",
    "        for post in posts:\n",
    "            post[\"group\"] = group_name  # добавляем имя группы\n",
    "            group_posts.append(post)\n",
    "\n",
    "    except Exception as e:\n",
    "        print(f\"⚠️ Ошибка при скачивании постов для {group_name}: {e}\")"
   ]
  },
  {
   "cell_type": "code",
   "execution_count": 41,
   "id": "a8343582-2714-47da-8d9f-5d3c2e80f140",
   "metadata": {},
   "outputs": [
    {
     "name": "stderr",
     "output_type": "stream",
     "text": [
      "[nltk_data] Downloading package punkt to\n",
      "[nltk_data]     C:\\Users\\Doctor_PC\\AppData\\Roaming\\nltk_data...\n",
      "[nltk_data]   Package punkt is already up-to-date!\n",
      "[nltk_data] Downloading package stopwords to\n",
      "[nltk_data]     C:\\Users\\Doctor_PC\\AppData\\Roaming\\nltk_data...\n",
      "[nltk_data]   Package stopwords is already up-to-date!\n"
     ]
    },
    {
     "data": {
      "text/plain": [
       "True"
      ]
     },
     "execution_count": 41,
     "metadata": {},
     "output_type": "execute_result"
    }
   ],
   "source": [
    "import nltk\n",
    "nltk.download('punkt')\n",
    "nltk.download('stopwords')"
   ]
  },
  {
   "cell_type": "code",
   "execution_count": 44,
   "id": "264d13c4-ec4c-4d9e-9aec-990deef072e9",
   "metadata": {},
   "outputs": [
    {
     "name": "stdout",
     "output_type": "stream",
     "text": [
      "\n",
      " Тема 1:\n",
      "0.006*\"видео\" + 0.005*\"сергеевна\" + 0.005*\"туризма\" + 0.004*\"фильм\" + 0.004*\"апреля\" + 0.004*\"ориентирование\" + 0.004*\"александр\" + 0.004*\"иван\"\n",
      "\n",
      " Тема 2:\n",
      "0.007*\"кластер\" + 0.006*\"сергей\" + 0.006*\"михаил\" + 0.006*\"александр\" + 0.004*\"результаты\" + 0.004*\"андрей\" + 0.004*\"пары\" + 0.004*\"титков\"\n",
      "\n",
      " Тема 3:\n",
      "0.007*\"runcomrun\" + 0.007*\"московскийполумарафон\" + 0.006*\"полумарафона\" + 0.006*\"московского\" + 0.005*\"маршрут\" + 0.005*\"дистанции\" + 0.005*\"будут\" + 0.004*\"участников\"\n",
      "\n",
      " Тема 4:\n",
      "0.009*\"picnic\" + 0.009*\"geek\" + 0.007*\"фестиваля\" + 0.006*\"баскаков\" + 0.006*\"мечты\" + 0.006*\"технологий\" + 0.006*\"александр\" + 0.006*\"сергеевич\"\n",
      "\n",
      " Тема 5:\n",
      "0.008*\"группа\" + 0.004*\"нами\" + 0.004*\"день\" + 0.004*\"также\" + 0.004*\"ногами\" + 0.003*\"поход\" + 0.003*\"geek\" + 0.003*\"горный\"\n",
      "\n",
      " Тема 6:\n",
      "0.007*\"runcomrun\" + 0.006*\"технологий\" + 0.005*\"время\" + 0.005*\"партн\" + 0.005*\"geek\" + 0.005*\"picnic\" + 0.004*\"апрель\" + 0.004*\"engine\"\n",
      "\n",
      " Тема 7:\n",
      "0.004*\"лисья\" + 0.004*\"гора\" + 0.003*\"апреля\" + 0.003*\"группе\" + 0.003*\"науки\" + 0.003*\"газпром\" + 0.003*\"фотографии\" + 0.003*\"быстрый\"\n",
      "\n",
      " Тема 8:\n",
      "0.005*\"газпром\" + 0.004*\"выходные\" + 0.003*\"команды\" + 0.003*\"ждем\" + 0.003*\"компании\" + 0.003*\"высоте\" + 0.003*\"соревнования\" + 0.003*\"огромную\"\n",
      "\n",
      " Тема 9:\n",
      "0.010*\"club\" + 0.010*\"erid\" + 0.009*\"забега\" + 0.008*\"апреля\" + 0.007*\"партн\" + 0.006*\"сайте\" + 0.005*\"хранения\" + 0.004*\"участников\"\n",
      "\n",
      " Тема 10:\n",
      "0.017*\"рублей\" + 0.017*\"место\" + 0.006*\"рамках\" + 0.006*\"эстафеты\" + 0.006*\"сегодня\" + 0.004*\"команд\" + 0.004*\"места\" + 0.004*\"занявших\"\n",
      "\n",
      " Тема 11:\n",
      "0.018*\"realme\" + 0.012*\"picnic\" + 0.011*\"geek\" + 0.011*\"науки\" + 0.009*\"технологий\" + 0.008*\"фестиваля\" + 0.004*\"смартфонов\" + 0.004*\"походы\"\n",
      "\n",
      " Тема 12:\n",
      "0.007*\"runc\" + 0.007*\"время\" + 0.006*\"runcomrun\" + 0.005*\"друзья\" + 0.004*\"кластер\" + 0.004*\"результат\" + 0.004*\"московскийполумарафон\" + 0.004*\"друзей\"\n",
      "\n",
      " Тема 13:\n",
      "0.005*\"волонт\" + 0.004*\"runcomrun\" + 0.004*\"команды\" + 0.004*\"точно\" + 0.004*\"забега\" + 0.004*\"частью\" + 0.003*\"году\" + 0.003*\"которая\"\n",
      "\n",
      " Тема 14:\n",
      "0.006*\"соли\" + 0.006*\"мало\" + 0.005*\"похода\" + 0.004*\"москвы\" + 0.004*\"соль\" + 0.004*\"города\" + 0.004*\"ребята\" + 0.004*\"дней\"\n",
      "\n",
      " Тема 15:\n",
      "0.005*\"club\" + 0.004*\"день\" + 0.004*\"вестры\" + 0.003*\"фотоконкурса\" + 0.003*\"февраля\" + 0.003*\"сборов\" + 0.003*\"вестра\" + 0.003*\"забег\"\n",
      "\n",
      " Тема 16:\n",
      "0.006*\"москвы\" + 0.006*\"fitmost\" + 0.006*\"города\" + 0.006*\"спорта\" + 0.005*\"эстафета\" + 0.005*\"picnic\" + 0.005*\"geek\" + 0.005*\"партн\"\n",
      "\n",
      " Тема 17:\n",
      "0.006*\"день\" + 0.006*\"часть\" + 0.004*\"которые\" + 0.003*\"технологий\" + 0.003*\"науки\" + 0.003*\"который\" + 0.003*\"году\" + 0.002*\"вместе\"\n",
      "\n",
      " Тема 18:\n",
      "0.004*\"михаил\" + 0.004*\"елена\" + 0.004*\"судья\" + 0.004*\"инструктор\" + 0.004*\"ребята\" + 0.004*\"забега\" + 0.004*\"также\" + 0.004*\"занимается\"\n",
      "\n",
      " Тема 19:\n",
      "0.005*\"часть\" + 0.004*\"runcomrun\" + 0.004*\"рюкзаки\" + 0.004*\"реки\" + 0.004*\"дальше\" + 0.003*\"вниз\" + 0.003*\"вдоль\" + 0.003*\"склону\"\n",
      "\n",
      " Тема 20:\n",
      "0.004*\"клуба\" + 0.004*\"поход\" + 0.004*\"кухня\" + 0.004*\"октября\" + 0.004*\"человек\" + 0.004*\"иванова\" + 0.004*\"пуриков\" + 0.003*\"должен\"\n"
     ]
    }
   ],
   "source": [
    "import re\n",
    "import gensim\n",
    "import gensim.corpora as corpora\n",
    "from nltk.corpus import stopwords\n",
    "from nltk.tokenize import word_tokenize\n",
    "\n",
    "texts_clean = []\n",
    "\n",
    "for post in group_posts:\n",
    "    text = post.get(\"text\", \"\").lower()\n",
    "    text = re.sub(r\"http\\S+|www\\S+|[^а-яa-z\\s]\", \" \", text)\n",
    "    words = text.split()\n",
    "    words = [w for w in words if w not in stop_words and len(w) > 3]\n",
    "    texts_clean.append(words)\n",
    "\n",
    "texts_clean = [text for text in texts_clean if len(text) > 0]\n",
    "\n",
    "# Строим словарь и корпус\n",
    "id2word = corpora.Dictionary(texts_clean)\n",
    "corpus = [id2word.doc2bow(text) for text in texts_clean]\n",
    "\n",
    "# Обучаем LDA модель\n",
    "lda_model = gensim.models.LdaModel(\n",
    "    corpus=corpus,\n",
    "    id2word=id2word,\n",
    "    num_topics=20,         # Кол-во тем — можно изменить\n",
    "    random_state=42,\n",
    "    passes=10,\n",
    "    per_word_topics=True\n",
    ")\n",
    "\n",
    "# 📝 Вывод тем\n",
    "for idx, topic in lda_model.print_topics(num_words=8):\n",
    "    print(f\"\\n Тема {idx + 1}:\")\n",
    "    print(topic)"
   ]
  },
  {
   "cell_type": "markdown",
   "id": "778bb7c5-c972-4a79-b6f5-6f72ca117b68",
   "metadata": {},
   "source": [
    "## Связь тематики с товарными категориями"
   ]
  },
  {
   "cell_type": "markdown",
   "id": "2748e06d-f1cc-487b-ab58-712eba52a739",
   "metadata": {},
   "source": [
    "### Cловарь тем → товарных категорий"
   ]
  },
  {
   "cell_type": "code",
   "execution_count": 46,
   "id": "6769c78f-ef9e-48e1-8069-e46ff7622002",
   "metadata": {},
   "outputs": [],
   "source": [
    "# Создаем словарь товарных категорий\n",
    "theme_to_category = {\n",
    "    \"спорт\": \"Спортивная одежда, спортивные товары\",\n",
    "    \"путешествия\": \"Туристическое снаряжение, одежда для туризма\",\n",
    "    \"туризм\": \"Туристическое снаряжение, туристические услуги\",\n",
    "    \"электроника\": \"Гаджеты, умные часы, наушники\",\n",
    "    \"фитнес\": \"Фитнес-клубы, спортивное питание\",\n",
    "    \"мотоциклы\": \"Экипировка для мотоциклистов, мотоаксессуары\",\n",
    "    \"авто\": \"Автоаксессуары, шины, масла\",\n",
    "    \"еда\": \"Продукты, доставка еды\",\n",
    "    \"здоровье\": \"Витамины, аптечные товары\",\n",
    "    \"развлечения\": \"Билеты на концерты, мероприятия\",\n",
    "    \"отдых\": \"Путёвки, отдых на природе\"\n",
    "}\n",
    "\n",
    "# Готовим функцию для классификации тематики поста\n",
    "def detect_theme(text):\n",
    "    themes_found = []\n",
    "    text = text.lower()\n",
    "\n",
    "    for theme_keyword in theme_to_category.keys():\n",
    "        if theme_keyword in text:\n",
    "            themes_found.append(theme_keyword)\n",
    "\n",
    "    return themes_found"
   ]
  },
  {
   "cell_type": "markdown",
   "id": "61207073-7d9c-45e4-8d96-c5ab10eadc3b",
   "metadata": {},
   "source": [
    "### Обрабатка постов"
   ]
  },
  {
   "cell_type": "code",
   "execution_count": 47,
   "id": "12576288-bea5-4999-8b17-d74139581b59",
   "metadata": {
    "scrolled": true
   },
   "outputs": [
    {
     "name": "stdout",
     "output_type": "stream",
     "text": [
      "✅ Сохранено 16 рекомендаций в файл analysis_recommendations.csv\n"
     ]
    },
    {
     "data": {
      "text/html": [
       "<div>\n",
       "<style scoped>\n",
       "    .dataframe tbody tr th:only-of-type {\n",
       "        vertical-align: middle;\n",
       "    }\n",
       "\n",
       "    .dataframe tbody tr th {\n",
       "        vertical-align: top;\n",
       "    }\n",
       "\n",
       "    .dataframe thead th {\n",
       "        text-align: right;\n",
       "    }\n",
       "</style>\n",
       "<table border=\"1\" class=\"dataframe\">\n",
       "  <thead>\n",
       "    <tr style=\"text-align: right;\">\n",
       "      <th></th>\n",
       "      <th>post_id</th>\n",
       "      <th>theme_detected</th>\n",
       "      <th>category_recommendation</th>\n",
       "      <th>post_text_snippet</th>\n",
       "    </tr>\n",
       "  </thead>\n",
       "  <tbody>\n",
       "    <tr>\n",
       "      <th>0</th>\n",
       "      <td>46312</td>\n",
       "      <td>спорт</td>\n",
       "      <td>Спортивная одежда, спортивные товары</td>\n",
       "      <td>результаты конкурса runit 🏃🏻‍♂️🏃🏻‍♂️🏃🏻‍♂️\\n\\nмы готовы объявить победителя, который получит билет на м</td>\n",
       "    </tr>\n",
       "    <tr>\n",
       "      <th>1</th>\n",
       "      <td>46172</td>\n",
       "      <td>авто</td>\n",
       "      <td>Автоаксессуары, шины, масла</td>\n",
       "      <td>молодёжный центр союза кинематографистов россии проводит показ собственных короткометражных фильмов</td>\n",
       "    </tr>\n",
       "    <tr>\n",
       "      <th>2</th>\n",
       "      <td>46172</td>\n",
       "      <td>отдых</td>\n",
       "      <td>Путёвки, отдых на природе</td>\n",
       "      <td>молодёжный центр союза кинематографистов россии проводит показ собственных короткометражных фильмов</td>\n",
       "    </tr>\n",
       "    <tr>\n",
       "      <th>3</th>\n",
       "      <td>46117</td>\n",
       "      <td>спорт</td>\n",
       "      <td>Спортивная одежда, спортивные товары</td>\n",
       "      <td>наш спортивный партнёр фестиваля науки и технологий geek picnic – [club96937874|fitmost]  🏃🏻‍♂️\\n\\nеди</td>\n",
       "    </tr>\n",
       "    <tr>\n",
       "      <th>4</th>\n",
       "      <td>46117</td>\n",
       "      <td>фитнес</td>\n",
       "      <td>Фитнес-клубы, спортивное питание</td>\n",
       "      <td>наш спортивный партнёр фестиваля науки и технологий geek picnic – [club96937874|fitmost]  🏃🏻‍♂️\\n\\nеди</td>\n",
       "    </tr>\n",
       "    <tr>\n",
       "      <th>5</th>\n",
       "      <td>46033</td>\n",
       "      <td>спорт</td>\n",
       "      <td>Спортивная одежда, спортивные товары</td>\n",
       "      <td>кем ты можешь стать в газпром цпс?🧙\\n\\nраспределительная шляпа со встроенной нейросетью даст ответ!\\n\\nп</td>\n",
       "    </tr>\n",
       "    <tr>\n",
       "      <th>6</th>\n",
       "      <td>46009</td>\n",
       "      <td>авто</td>\n",
       "      <td>Автоаксессуары, шины, масла</td>\n",
       "      <td>институт бизнеса и дизайна [club639014|b&amp;d] примет участие в нашем фестивале науки и технологий geek</td>\n",
       "    </tr>\n",
       "    <tr>\n",
       "      <th>7</th>\n",
       "      <td>46001</td>\n",
       "      <td>авто</td>\n",
       "      <td>Автоаксессуары, шины, масла</td>\n",
       "      <td>розыгрыш от острова мечты и geek picnic 😍\\n\\n📷 хотите получить еще больше положительных эмоций от geek</td>\n",
       "    </tr>\n",
       "    <tr>\n",
       "      <th>8</th>\n",
       "      <td>46001</td>\n",
       "      <td>отдых</td>\n",
       "      <td>Путёвки, отдых на природе</td>\n",
       "      <td>розыгрыш от острова мечты и geek picnic 😍\\n\\n📷 хотите получить еще больше положительных эмоций от geek</td>\n",
       "    </tr>\n",
       "    <tr>\n",
       "      <th>9</th>\n",
       "      <td>45849</td>\n",
       "      <td>авто</td>\n",
       "      <td>Автоаксессуары, шины, масла</td>\n",
       "      <td>совместно с федеральной сетью книжных [club22142529|читай-город] и институтом бизнеса и дизайна [clu</td>\n",
       "    </tr>\n",
       "  </tbody>\n",
       "</table>\n",
       "</div>"
      ],
      "text/plain": [
       "   post_id theme_detected               category_recommendation                                                                                         post_text_snippet\n",
       "0    46312          спорт  Спортивная одежда, спортивные товары    результаты конкурса runit 🏃🏻‍♂️🏃🏻‍♂️🏃🏻‍♂️\\n\\nмы готовы объявить победителя, который получит билет на м\n",
       "1    46172           авто           Автоаксессуары, шины, масла      молодёжный центр союза кинематографистов россии проводит показ собственных короткометражных фильмов \n",
       "2    46172          отдых             Путёвки, отдых на природе      молодёжный центр союза кинематографистов россии проводит показ собственных короткометражных фильмов \n",
       "3    46117          спорт  Спортивная одежда, спортивные товары    наш спортивный партнёр фестиваля науки и технологий geek picnic – [club96937874|fitmost]  🏃🏻‍♂️\\n\\nеди\n",
       "4    46117         фитнес      Фитнес-клубы, спортивное питание    наш спортивный партнёр фестиваля науки и технологий geek picnic – [club96937874|fitmost]  🏃🏻‍♂️\\n\\nеди\n",
       "5    46033          спорт  Спортивная одежда, спортивные товары  кем ты можешь стать в газпром цпс?🧙\\n\\nраспределительная шляпа со встроенной нейросетью даст ответ!\\n\\nп\n",
       "6    46009           авто           Автоаксессуары, шины, масла      институт бизнеса и дизайна [club639014|b&d] примет участие в нашем фестивале науки и технологий geek\n",
       "7    46001           авто           Автоаксессуары, шины, масла    розыгрыш от острова мечты и geek picnic 😍\\n\\n📷 хотите получить еще больше положительных эмоций от geek\n",
       "8    46001          отдых             Путёвки, отдых на природе    розыгрыш от острова мечты и geek picnic 😍\\n\\n📷 хотите получить еще больше положительных эмоций от geek\n",
       "9    45849           авто           Автоаксессуары, шины, масла      совместно с федеральной сетью книжных [club22142529|читай-город] и институтом бизнеса и дизайна [clu"
      ]
     },
     "metadata": {},
     "output_type": "display_data"
    }
   ],
   "source": [
    "# Обрабатываем посты: определяем темы\n",
    "posts_data = []\n",
    "\n",
    "for post in posts:\n",
    "    text = post.get(\"text\", \"\").lower()\n",
    "\n",
    "    if not text.strip():\n",
    "        continue\n",
    "\n",
    "    themes = detect_theme(text)\n",
    "\n",
    "    if themes:\n",
    "        for theme in themes:\n",
    "            posts_data.append({\n",
    "                \"post_id\": post[\"id\"],\n",
    "                \"theme_detected\": theme,\n",
    "                \"category_recommendation\": theme_to_category[theme],\n",
    "                \"post_text_snippet\": text[:100]  # кусочек текста\n",
    "            })\n",
    "\n",
    "# Сохраняем результат в CSV\n",
    "\n",
    "recommendations_df = pd.DataFrame(posts_data)\n",
    "\n",
    "output_csv = \"analysis_recommendations.csv\"\n",
    "recommendations_df.to_csv(output_csv, index=False, encoding=\"utf-8\")\n",
    "\n",
    "print(f\"✅ Сохранено {len(recommendations_df)} рекомендаций в файл {output_csv}\")\n",
    "display(recommendations_df.head(10))"
   ]
  },
  {
   "cell_type": "markdown",
   "id": "d5abea72-b41f-42c7-9e7c-27652719988e",
   "metadata": {},
   "source": [
    "### Анализ тем"
   ]
  },
  {
   "cell_type": "code",
   "execution_count": 48,
   "id": "e6656e69-5566-47ae-840d-04aa7461a649",
   "metadata": {},
   "outputs": [
    {
     "name": "stdout",
     "output_type": "stream",
     "text": [
      "📈 Популярность тем в группе:\n"
     ]
    },
    {
     "data": {
      "text/html": [
       "<div>\n",
       "<style scoped>\n",
       "    .dataframe tbody tr th:only-of-type {\n",
       "        vertical-align: middle;\n",
       "    }\n",
       "\n",
       "    .dataframe tbody tr th {\n",
       "        vertical-align: top;\n",
       "    }\n",
       "\n",
       "    .dataframe thead th {\n",
       "        text-align: right;\n",
       "    }\n",
       "</style>\n",
       "<table border=\"1\" class=\"dataframe\">\n",
       "  <thead>\n",
       "    <tr style=\"text-align: right;\">\n",
       "      <th></th>\n",
       "      <th>theme</th>\n",
       "      <th>count</th>\n",
       "    </tr>\n",
       "  </thead>\n",
       "  <tbody>\n",
       "    <tr>\n",
       "      <th>0</th>\n",
       "      <td>спорт</td>\n",
       "      <td>6</td>\n",
       "    </tr>\n",
       "    <tr>\n",
       "      <th>1</th>\n",
       "      <td>авто</td>\n",
       "      <td>6</td>\n",
       "    </tr>\n",
       "    <tr>\n",
       "      <th>2</th>\n",
       "      <td>отдых</td>\n",
       "      <td>2</td>\n",
       "    </tr>\n",
       "    <tr>\n",
       "      <th>3</th>\n",
       "      <td>фитнес</td>\n",
       "      <td>2</td>\n",
       "    </tr>\n",
       "  </tbody>\n",
       "</table>\n",
       "</div>"
      ],
      "text/plain": [
       "    theme  count\n",
       "0   спорт      6\n",
       "1    авто      6\n",
       "2   отдых      2\n",
       "3  фитнес      2"
      ]
     },
     "metadata": {},
     "output_type": "display_data"
    }
   ],
   "source": [
    "# Группируем и считаем количество вхождений каждой темы\n",
    "\n",
    "theme_counts = recommendations_df['theme_detected'].value_counts().reset_index()\n",
    "theme_counts.columns = [\"theme\", \"count\"]\n",
    "\n",
    "print(\"📈 Популярность тем в группе:\")\n",
    "display(theme_counts)"
   ]
  },
  {
   "cell_type": "code",
   "execution_count": 49,
   "id": "d14bc102-cc43-404d-92f9-b6a9083334be",
   "metadata": {
    "scrolled": true
   },
   "outputs": [
    {
     "data": {
      "image/png": "[encoded data removed]",
      "text/plain": [
       "<Figure size 1000x600 with 1 Axes>"
      ]
     },
     "metadata": {},
     "output_type": "display_data"
    }
   ],
   "source": [
    "# Визуализируем популярность тем\n",
    "plt.figure(figsize=(10, 6))\n",
    "plt.bar(theme_counts['theme'], theme_counts['count'], color='skyblue')\n",
    "plt.xticks(rotation=45)\n",
    "plt.title(\"📊 Популярные темы в сообществе\")\n",
    "plt.xlabel(\"Темы\")\n",
    "plt.ylabel(\"Количество постов\")\n",
    "plt.grid(True)\n",
    "plt.show()"
   ]
  },
  {
   "cell_type": "code",
   "execution_count": 50,
   "id": "92db6a90-769c-4bd1-a7ca-a3acdd9dc618",
   "metadata": {},
   "outputs": [
    {
     "name": "stdout",
     "output_type": "stream",
     "text": [
      "🏆 Топ-3 самых популярных тем:\n",
      "1. спорт — 6 постов\n",
      "2. авто — 6 постов\n",
      "3. отдых — 2 постов\n",
      "\n",
      "📋 Рекомендация для рекламы:\n",
      "- Сфокусировать рекламу на этих темах.\n",
      "- Предложить товары/услуги по этим направлениям.\n"
     ]
    }
   ],
   "source": [
    "# Находим Топ-3 самых популярных тем\n",
    "\n",
    "top_3_themes = theme_counts.head(3)\n",
    "\n",
    "print(\"🏆 Топ-3 самых популярных тем:\")\n",
    "for idx, row in top_3_themes.iterrows():\n",
    "    print(f\"{idx+1}. {row['theme']} — {row['count']} постов\")\n",
    "\n",
    "print(\"\\n📋 Рекомендация для рекламы:\")\n",
    "print(\"- Сфокусировать рекламу на этих темах.\")\n",
    "print(\"- Предложить товары/услуги по этим направлениям.\")"
   ]
  },
  {
   "cell_type": "markdown",
   "id": "e4d0dc11-3bc4-40d4-866f-2fe98e6975ba",
   "metadata": {},
   "source": [
    "## Анализ живой аудитории.\n",
    "Что делаем?   \n",
    "1.\tПолучаем число подписчиков через VK API (groups.getById)   \n",
    "2.\tСобираем лайки и комментарии для каждого поста (wall.get)   \n",
    "3.\tСчитаем среднюю активность (средние лайки/комменты на пост)   \n",
    "4.\tВычисляем реальный Engagement Rate    \n",
    "5.\tСравниваем с данными по мероприятиям (число лиц на фото) ищем закономерности.   "
   ]
  },
  {
   "cell_type": "code",
   "execution_count": 27,
   "id": "d3e3adb0-fdfa-4e00-a978-eef5580b2e72",
   "metadata": {},
   "outputs": [
    {
     "name": "stdout",
     "output_type": "stream",
     "text": [
      " Количество подписчиков в группе geekpicnic: 55630\n"
     ]
    }
   ],
   "source": [
    "# Получаем информацию о группе\n",
    "group_info = vk.groups.getById(group_id=abs(GROUPS[GROUP_NAME]), fields=\"members_count\")\n",
    "members_count = group_info[0][\"members_count\"]\n",
    "\n",
    "print(f\" Количество подписчиков в группе {GROUP_NAME}: {members_count}\")"
   ]
  },
  {
   "cell_type": "code",
   "execution_count": 28,
   "id": "c9d6109e-7bdd-4386-889a-a4c0e50835a8",
   "metadata": {},
   "outputs": [
    {
     "name": "stdout",
     "output_type": "stream",
     "text": [
      "❤️ Среднее количество лайков на пост: 19.24\n",
      "💬 Среднее количество комментариев на пост: 3.87\n",
      "💬 Среднее количество просмотров на пост: 3653.69\n"
     ]
    },
    {
     "data": {
      "text/html": [
       "<div>\n",
       "<style scoped>\n",
       "    .dataframe tbody tr th:only-of-type {\n",
       "        vertical-align: middle;\n",
       "    }\n",
       "\n",
       "    .dataframe tbody tr th {\n",
       "        vertical-align: top;\n",
       "    }\n",
       "\n",
       "    .dataframe thead th {\n",
       "        text-align: right;\n",
       "    }\n",
       "</style>\n",
       "<table border=\"1\" class=\"dataframe\">\n",
       "  <thead>\n",
       "    <tr style=\"text-align: right;\">\n",
       "      <th></th>\n",
       "      <th>post_id</th>\n",
       "      <th>likes</th>\n",
       "      <th>comments</th>\n",
       "      <th>views</th>\n",
       "    </tr>\n",
       "  </thead>\n",
       "  <tbody>\n",
       "    <tr>\n",
       "      <th>0</th>\n",
       "      <td>46389</td>\n",
       "      <td>33</td>\n",
       "      <td>3</td>\n",
       "      <td>8696</td>\n",
       "    </tr>\n",
       "    <tr>\n",
       "      <th>1</th>\n",
       "      <td>46356</td>\n",
       "      <td>18</td>\n",
       "      <td>5</td>\n",
       "      <td>8102</td>\n",
       "    </tr>\n",
       "    <tr>\n",
       "      <th>2</th>\n",
       "      <td>46355</td>\n",
       "      <td>12</td>\n",
       "      <td>0</td>\n",
       "      <td>6961</td>\n",
       "    </tr>\n",
       "    <tr>\n",
       "      <th>3</th>\n",
       "      <td>46354</td>\n",
       "      <td>10</td>\n",
       "      <td>0</td>\n",
       "      <td>5895</td>\n",
       "    </tr>\n",
       "    <tr>\n",
       "      <th>4</th>\n",
       "      <td>46353</td>\n",
       "      <td>10</td>\n",
       "      <td>0</td>\n",
       "      <td>4804</td>\n",
       "    </tr>\n",
       "    <tr>\n",
       "      <th>5</th>\n",
       "      <td>46352</td>\n",
       "      <td>6</td>\n",
       "      <td>0</td>\n",
       "      <td>4153</td>\n",
       "    </tr>\n",
       "    <tr>\n",
       "      <th>6</th>\n",
       "      <td>46351</td>\n",
       "      <td>6</td>\n",
       "      <td>0</td>\n",
       "      <td>3777</td>\n",
       "    </tr>\n",
       "    <tr>\n",
       "      <th>7</th>\n",
       "      <td>46350</td>\n",
       "      <td>5</td>\n",
       "      <td>0</td>\n",
       "      <td>3153</td>\n",
       "    </tr>\n",
       "    <tr>\n",
       "      <th>8</th>\n",
       "      <td>46349</td>\n",
       "      <td>4</td>\n",
       "      <td>0</td>\n",
       "      <td>2802</td>\n",
       "    </tr>\n",
       "    <tr>\n",
       "      <th>9</th>\n",
       "      <td>46348</td>\n",
       "      <td>7</td>\n",
       "      <td>0</td>\n",
       "      <td>2624</td>\n",
       "    </tr>\n",
       "  </tbody>\n",
       "</table>\n",
       "</div>"
      ],
      "text/plain": [
       "   post_id  likes  comments  views\n",
       "0    46389     33         3   8696\n",
       "1    46356     18         5   8102\n",
       "2    46355     12         0   6961\n",
       "3    46354     10         0   5895\n",
       "4    46353     10         0   4804\n",
       "5    46352      6         0   4153\n",
       "6    46351      6         0   3777\n",
       "7    46350      5         0   3153\n",
       "8    46349      4         0   2802\n",
       "9    46348      7         0   2624"
      ]
     },
     "metadata": {},
     "output_type": "display_data"
    }
   ],
   "source": [
    "# 📌 Добавляем информацию о лайках и комментариях\n",
    "posts_likes_comments = []\n",
    "\n",
    "for post in posts:\n",
    "    try:\n",
    "        post_id = post['id']\n",
    "        likes_count = post['likes']['count']\n",
    "        comments_count = post['comments']['count']\n",
    "        views_count = post['views']['count'] if 'views' in post else 0  # <- вот здесь\n",
    "\n",
    "        posts_likes_comments.append({\n",
    "            \"post_id\": post_id,\n",
    "            \"likes\": likes_count,\n",
    "            \"comments\": comments_count,\n",
    "            \"views\": views_count  # сохраняем!\n",
    "        })\n",
    "    except KeyError:\n",
    "        continue  # если каких-то полей нет\n",
    "\n",
    "# 📌 Превращаем в датафрейм\n",
    "engagement_df = pd.DataFrame(posts_likes_comments)\n",
    "\n",
    "# 📌 Средние лайки и комментарии\n",
    "average_likes = engagement_df['likes'].mean()\n",
    "average_comments = engagement_df['comments'].mean()\n",
    "average_views = engagement_df['views'].mean()\n",
    "\n",
    "print(f\"❤️ Среднее количество лайков на пост: {average_likes:.2f}\")\n",
    "print(f\"💬 Среднее количество комментариев на пост: {average_comments:.2f}\")\n",
    "print(f\"💬 Среднее количество просмотров на пост: {average_views:.2f}\")\n",
    "\n",
    "engagement_df = pd.DataFrame(posts_likes_comments)\n",
    "display(engagement_df.head(10))"
   ]
  },
  {
   "cell_type": "code",
   "execution_count": 29,
   "id": "3fff0928-b2fa-4ee2-8771-a90b065f8266",
   "metadata": {},
   "outputs": [
    {
     "name": "stdout",
     "output_type": "stream",
     "text": [
      "📊 Конверсия группы: 0.63%\n"
     ]
    }
   ],
   "source": [
    "# Вычисляем Engagement Rate\n",
    "convers_rate = ((average_likes + average_comments) / average_views) * 100\n",
    "\n",
    "print(f\"📊 Конверсия группы: {convers_rate:.2f}%\")"
   ]
  },
  {
   "cell_type": "code",
   "execution_count": 30,
   "id": "5cc0b373-778c-4954-ac65-aa665dcd828b",
   "metadata": {},
   "outputs": [
    {
     "name": "stdout",
     "output_type": "stream",
     "text": [
      " Число уникальных лиц на мероприятии: 305\n",
      " Доля участников мероприятий от пассивных просмотров: 8.35%\n"
     ]
    }
   ],
   "source": [
    "# Уникальные лица на мероприятии (предположим, уже посчитано ранее)\n",
    "unique_faces_count = len(embeddings_info)  # embeddings_info — это наши уникальные лица\n",
    "\n",
    "print(f\" Число уникальных лиц на мероприятии: {unique_faces_count}\")\n",
    "\n",
    "# Доля активных участников\n",
    "active_share = (unique_faces_count / average_views) * 100\n",
    "\n",
    "print(f\" Доля участников мероприятий от пассивных просмотров: {active_share:.2f}%\")"
   ]
  },
  {
   "cell_type": "markdown",
   "id": "f7a6cc37-6e81-4a4f-ba4a-f15d5282e4c9",
   "metadata": {},
   "source": [
    "## Вывод"
   ]
  },
  {
   "cell_type": "markdown",
   "id": "0ab54596-74c8-43ac-a864-710202200366",
   "metadata": {},
   "source": [
    "#### Итоговый вывод проекта VK Visual Insights  \n",
    "(на примере анализа группы Geek Picnic)\n",
    "\n",
    "---\n",
    "\n",
    "##### Зачем это нужно\n",
    "\n",
    "С развитием социальных сетей наблюдается перенасыщение и \"деградация\" аудитории:\n",
    "\n",
    "- Люди подписаны на группы, но не участвуют в их жизни.\n",
    "- Присутствует большое количество ботов и \"мертвых\" аккаунтов.\n",
    "- Многие активные участники мероприятий не имеют аккаунта или не подписаны на группу.\n",
    "- После мероприятий происходит отписка или отсутствие подписки.\n",
    "\n",
    "Единственный реальный способ оценки живой аудитории — это анализ фотографий с мероприятий с помощью нейросетей.\n",
    "\n",
    "---\n",
    "\n",
    "#####  Что делает VK Visual Insights\n",
    "\n",
    "- Анализирует фото мероприятий через компьютерное зрение.\n",
    "- Определяет реальное число активных участников (уникальные лица).\n",
    "- Строит демографические профили: пол, возраст, эмоции.\n",
    "- Помогает рекомендовать товары и услуги на основе интересов аудитории.\n",
    "- Сравнивает данные активности в группе с активностью на мероприятиях.\n",
    "\n",
    "---\n",
    "\n",
    "#####  Основные результаты анализа Geek Picnic\n",
    "\n",
    "#####  Гендерный состав:\n",
    "\n",
    "- Мужчины: 64.4%\n",
    "- Женщины: 35.6%\n",
    "\n",
    "#####  Возрастная структура:\n",
    "\n",
    "- 18–29 лет: 41.1%\n",
    "- 30–44 года: 54.8%\n",
    "- 45–59 лет: 4.1%\n",
    "- Младше 18 и старше 60: 0%\n",
    "\n",
    "Вывод: аудитория — взрослые, активные молодые люди и специалисты.\n",
    "\n",
    "---\n",
    "\n",
    "#####  Эмоциональный фон:\n",
    "\n",
    "- Радость (happy): 28.8%\n",
    "- Нейтральные эмоции (neutral): 25.3%\n",
    "- Грусть (sad): 24.0%\n",
    "- Страх (fear): 13.7%\n",
    "- Агрессия, удивление, отвращение — минимальны.\n",
    "\n",
    "Вывод: контент вызывает в основном положительные и нейтральные эмоции, благоприятная эмоциональная среда для рекламы.\n",
    "\n",
    "---\n",
    "\n",
    "#####  Тематика интересов:\n",
    "\n",
    "На основании текстового анализа постов выявлены топ-темы:\n",
    "\n",
    "| Тема    | Постов |\n",
    "|---------|--------|\n",
    "| Спорт   | 6      |\n",
    "| Авто    | 6      |\n",
    "| Отдых   | 2      |\n",
    "| Фитнес  | 2      |\n",
    "\n",
    "Вывод: основные интересы аудитории — активный образ жизни, спорт, авто и технологии.\n",
    "\n",
    "---\n",
    "\n",
    "#####  Рекомендации для рекламы:\n",
    "\n",
    "- Ориентироваться на категории: спортивные товары, электроника, товары для отдыха и автоаксессуары.\n",
    "- Делать упор на позитивную, активную жизненную позицию в рекламных креативах.\n",
    "- Предлагать товары и мероприятия, поддерживающие активный отдых.\n",
    "\n",
    "---\n",
    "\n",
    "#####  Живая активность в группе\n",
    "\n",
    "| Показатель                  | Значение |\n",
    "|-------------------------------|----------|\n",
    "| Среднее лайков на пост        | 19.24    |\n",
    "| Среднее комментариев на пост  | 3.87     |\n",
    "| Среднее просмотров на пост    | 3653.69  |\n",
    "| Конверсия (ER) группы         | 0.63%    |\n",
    "| Число уникальных лиц на мероприятии | 305 |\n",
    "| Доля участников мероприятий от просмотров | 8.35% |\n",
    "\n",
    "---\n",
    "\n",
    "#####  Выводы по активности:\n",
    "\n",
    "- Engagement Rate ниже среднего уровня (обычно хороший ER > 1–2%), аудитория пассивная в онлайне.\n",
    "- Однако реальная вовлечённость через участие в мероприятиях высокая: 8.35% от просмотров проявили офлайн-активность.\n",
    "\n",
    "То есть, хотя пользователи редко лайкают и комментируют посты, они активно участвуют в реальных событиях.\n",
    "\n",
    "---\n",
    "\n",
    "#####  Общий вывод\n",
    "\n",
    "VK Visual Insights позволяет выявить реальную активную аудиторию, её возраст, эмоциональный фон, интересы и поведенческие особенности.\n",
    "\n",
    "Это даёт маркетологам, организаторам мероприятий и брендам возможность:\n",
    "\n",
    "- Работать с реальными клиентами, а не с \"мертвыми душами\".\n",
    "- Таргетировать рекламу точнее.\n",
    "- Повышать эффективность продвижения товаров и услуг.\n",
    "\n",
    "---\n",
    "\n",
    "#####  Файлы отчёта:\n",
    "\n",
    "- `analysis_results.csv`\n",
    "- `generated_ads.csv`\n",
    "- `embeddings_info.pkl`\n",
    "\n",
    "\n"
   ]
  },
  {
   "cell_type": "code",
   "execution_count": null,
   "id": "79a2d671-d2b5-4ffc-ab3c-284eb612308f",
   "metadata": {},
   "outputs": [],
   "source": []
  }
 ],
 "metadata": {
  "kernelspec": {
   "display_name": "Python 3 (TF & Keras latest)",
   "language": "python",
   "name": "py3_tf_latest"
  },
  "language_info": {
   "codemirror_mode": {
    "name": "ipython",
    "version": 3
   },
   "file_extension": ".py",
   "mimetype": "text/x-python",
   "name": "python",
   "nbconvert_exporter": "python",
   "pygments_lexer": "ipython3",
   "version": "3.12.7"
  }
 },
 "nbformat": 4,
 "nbformat_minor": 5
}
